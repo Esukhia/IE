{
 "cells": [
  {
   "cell_type": "code",
   "execution_count": 1,
   "metadata": {},
   "outputs": [
    {
     "name": "stdout",
     "output_type": "stream",
     "text": [
      "0.6.0\n"
     ]
    }
   ],
   "source": [
    "import json\n",
    "from pathlib import Path\n",
    "import pdb\n",
    "\n",
    "import pybo\n",
    "from pybo import *\n",
    "\n",
    "print(pybo.VERSION)"
   ]
  },
  {
   "cell_type": "markdown",
   "metadata": {},
   "source": [
    "## Load lighttag data"
   ]
  },
  {
   "cell_type": "code",
   "execution_count": 24,
   "metadata": {},
   "outputs": [],
   "source": [
    "paths = [Path('data/ner-lists-87_citations-1000_khar_annotations.json'), Path('data/ner-lists-87_citations-1000_tsering_annotations.json')]"
   ]
  },
  {
   "cell_type": "code",
   "execution_count": 87,
   "metadata": {},
   "outputs": [],
   "source": [
    "# example = [sentence, [(tag, start, end), ...]]\n",
    "\n",
    "def get_sentence(ann, example_text, tag):\n",
    "    if tag == 'དབྱེ་བ།' and not '{++~~++}' in example_text: return example_text\n",
    "    \n",
    "    sentence = example_text[ann['start']-100: ann['end']+100]\n",
    "    # right offset\n",
    "    sentence = sentence[sentence.find(' ')+1:]\n",
    "    \n",
    "    #left offset\n",
    "    left_offset = 0 if sentence.endswith('།') else (\"\".join(reversed(sentence))).find(' ') + 1   \n",
    "    sentence = sentence[:len(sentence) - left_offset]\n",
    "    sentence = sentence.replace('{++~~++}', '')\n",
    "    return sentence\n",
    "\n",
    "def get_examples(result):\n",
    "    example_text = result['example']['content']\n",
    "    annotations = result['results']['annotations']\n",
    "    \n",
    "    examples = []\n",
    "    for ann in annotations:\n",
    "        if ann['tag'] == 'ལུང་ཚིག་དངོས།' or ann['tag'] == 'དབྱེ་བ།':\n",
    "            #pdb.set_trace()\n",
    "            sentence = get_sentence(ann, example_text, ann['tag'])\n",
    "            start = ann['start']\n",
    "\n",
    "            #create new start and end indices\n",
    "            example = [sentence, []]\n",
    "            for ann in annotations:\n",
    "                if abs(ann['start'] - start) > 50: continue\n",
    "                value = ann['value'].replace('{++~~++}', '')\n",
    "                value = value[:-1] if value[-1] == ' ' else value\n",
    "                \n",
    "                n_start = sentence.find(value)\n",
    "                if n_start == -1: continue\n",
    "                if ann['tag'] == 'ལུང་ཁུངས།':\n",
    "                    idx = value.find('ལས།')\n",
    "                    if idx != -1:\n",
    "                        value = value[:idx]\n",
    "                        n_end = n_start + len(value) - 1\n",
    "                    else:\n",
    "                        n_end = n_start + len(value) - 1\n",
    "                elif ann['tag'] == 'ལུང་དེའི་མཛད་པ་པོ།':\n",
    "                    idx = value.find('པས།')\n",
    "                    if idx != -1:\n",
    "                        value = value[:idx]\n",
    "                        n_end = n_start + len(value) - 1\n",
    "                    else:\n",
    "                        n_end = n_start + len(value) - 1\n",
    "                else:\n",
    "                    n_end = n_start + len(value) - 1        \n",
    "                example[1].append((ann['tag'], n_start, n_end, value))\n",
    "            \n",
    "            if len(example[1]) > 1:\n",
    "                examples.append(example)\n",
    "                \n",
    "    return examples"
   ]
  },
  {
   "cell_type": "code",
   "execution_count": 63,
   "metadata": {},
   "outputs": [
    {
     "data": {
      "text/plain": [
       "[['རྣམ་པ་ལྔའི་བར་བཅོམ་པ། །གཉིས་པ་ལ་ནི་ཞུགས་པའང་ཡིན། ཞེས་དང་། རང་འགྲེལ་ལས། འབྲས་བུ་ལ་གནས་པ་གང་ཞིག་རྣམ་པ་གཅིག་ནས་ལྔའི་བར་སྤངས་པ་ཡིན་ན། འབྲས་བུ་གཉིས་པ་ལ་ཞུགས་པ་ཡིན་པར་རིག་པར་བྱའོ། །ཞེས་དང་། ཕྱིར་མི་འོང་ཞུགས་པ་འཇོག་པའི་ཚེ། ཉེས་ཆ་བདུན་ནམ་བརྒྱད་ཟད་པ།',\n",
       "  [('ལུང་ཚིག་དངོས།',\n",
       "    71,\n",
       "    174,\n",
       "    'འབྲས་བུ་ལ་གནས་པ་གང་ཞིག་རྣམ་པ་གཅིག་ནས་ལྔའི་བར་སྤངས་པ་ཡིན་ན། འབྲས་བུ་གཉིས་པ་ལ་ཞུགས་པ་ཡིན་པར་རིག་པར་བྱའོ། །'),\n",
       "   ('ལུང་ཁུངས།', 58, 66, 'རང་འགྲེལ་')]],\n",
       " ['།ཚེ་གཅིག་བར་ཆད་གཅིག་པ་དང་། །གསུམ་པ་ལ་ནི་ཞུགས་པའང་ཡིན། །ཞེས་དང་། རང་འགྲེལ་ལས། རྣམ་པ་བདུན་དང་བརྒྱད་སྤངས་པ་དེ་ནི་འབྲས་བུ་གསུམ་པ་ལ་ཞུགས་པ་ཡིན་པར་རིག་པར་བྱའོ། །ཞེས་དང་། དགྲ་བཅོམ་ཞུགས་པ་འཇོག་པའི་ཚེ། །སྲིད་རྩེའི་བར་ཆ་བརྒྱད་ཟད་པ།',\n",
       "  [('ལུང་ཁུངས།', 64, 72, 'རང་འགྲེལ་'),\n",
       "   ('ལུང་ཚིག་དངོས།',\n",
       "    77,\n",
       "    154,\n",
       "    'རྣམ་པ་བདུན་དང་བརྒྱད་སྤངས་པ་དེ་ནི་འབྲས་བུ་གསུམ་པ་ལ་ཞུགས་པ་ཡིན་པར་རིག་པར་བྱའོ། །')]],\n",
       " ['དང་པོ་ལ། མདོར་བསྟན་པ་དང་། རྒྱས་པར་བཤད་པ་གཉིས། དང་པོ་ནི། མཛོད་ལས། ས་གསུམ་ལས་རྒྱལ་བསམ་གཏན་ནམ། །ཉེར་བསྡོགས་ལས་མཐའི་རྣམ་གྲོལ་ལམ། །གོང་མའི་ཉེ་བར་བསྡོགས་ལས་མིན། །ཞེས་པའི་གཞུང་ལྟར་བཤད་ན།',\n",
       "  [('ལུང་ཁུངས།', 55, 60, ' མཛོད་'),\n",
       "   ('ལུང་ཚིག་དངོས།',\n",
       "    65,\n",
       "    155,\n",
       "    'ས་གསུམ་ལས་རྒྱལ་བསམ་གཏན་ནམ། །ཉེར་བསྡོགས་ལས་མཐའི་རྣམ་གྲོལ་ལམ། །གོང་མའི་ཉེ་བར་བསྡོགས་ལས་མིན། །')]]]"
      ]
     },
     "execution_count": 63,
     "metadata": {},
     "output_type": "execute_result"
    }
   ],
   "source": [
    "examples = get_examples(json_01['result'][0])\n",
    "examples"
   ]
  },
  {
   "cell_type": "code",
   "execution_count": 64,
   "metadata": {
    "scrolled": true
   },
   "outputs": [
    {
     "data": {
      "text/plain": [
       "[['འདུས་བྱས་ཐམས་ཅད་ནི་འཇིག་པའི་ཆོས་ཅན་ཡིན་ཏེ། ཆེད་དུ་བརྗོད་པའི་ཚོམ་ལས། ཀྱེ་མ་འདུས་བྱས་རྣམས་མི་རྟག །སྐྱེ་ཞིང་འཇིག་པའི་ཆོས་ཅན་ཡིན༑ ༑ཞེས་དང༌། གྲུབ་ཆེན་ཁྱུང་པོ་རྣལ་འབྱོར་པས། ཀྱེ་མ་འདུས་བྱས་མི་རྟག་སྟེ།',\n",
       "  [('ལུང་ཚིག་དངོས།',\n",
       "    68,\n",
       "    126,\n",
       "    'ཀྱེ་མ་འདུས་བྱས་རྣམས་མི་རྟག །སྐྱེ་ཞིང་འཇིག་པའི་ཆོས་ཅན་ཡིན༑ ༑'),\n",
       "   ('ལུང་ཁུངས།', 43, 63, 'ཆེད་དུ་བརྗོད་པའི་ཚོམ་')]],\n",
       " ['།སྐྱེ་ཞིང་འཇིག་པའི་ཆོས་ཅན་ཡིན༑ ༑ཞེས་དང༌། གྲུབ་ཆེན་ཁྱུང་པོ་རྣལ་འབྱོར་པས། ཀྱེ་མ་འདུས་བྱས་མི་རྟག་སྟེ། །ནམ་མཁའི་སྤྲིན་བཞིན་འདུས་ཤིང་གྱེས། །བདེན་མེད་སྒྱུ་མའི་ཆོས་རྣམས་ལ། །བདེན་པར་བཟུང་བས་བསླུས་པ་ཡིན། །ཞེས་གསུངས།',\n",
       "  [('ལུང་དེའི་མཛད་པ་པོ།', 41, 67, 'གྲུབ་ཆེན་ཁྱུང་པོ་རྣལ་འབྱོར་'),\n",
       "   ('ལུང་ཚིག་དངོས།',\n",
       "    72,\n",
       "    195,\n",
       "    'ཀྱེ་མ་འདུས་བྱས་མི་རྟག་སྟེ། །ནམ་མཁའི་སྤྲིན་བཞིན་འདུས་ཤིང་གྱེས། །བདེན་མེད་སྒྱུ་མའི་ཆོས་རྣམས་ལ། །བདེན་པར་བཟུང་བས་བསླུས་པ་ཡིན། །')]]]"
      ]
     },
     "execution_count": 64,
     "metadata": {},
     "output_type": "execute_result"
    }
   ],
   "source": [
    "get_examples(json_01['result'][1])"
   ]
  },
  {
   "cell_type": "code",
   "execution_count": 65,
   "metadata": {},
   "outputs": [
    {
     "data": {
      "text/plain": [
       "[['བདག་གི་ལུས་ངག་ཡིད་གསུམ་བསྡམས་ནས་དུལ་བ་དང་ལྡན་པས་གཞན་ཡང་དུལ་བར་བྱེད་ནུས་ཏེ། མདོ་ལས། བདག་མ་གྲོལ་བས་སེམས་ཅན་གཞན་གྲོལ་བར་མི་ནུས་ལ། དེ་བཞིན་བདག་མ་ཞི་ན་གཞན་ཞི་བ་དང༌། བདག་མ་དུལ་ན་གཞན་དུལ་བར་བྱ་མི་ནུས་སོ་ཞེས་གསུངས་པ་བཞིན་ནོ།',\n",
       "  [('ལུང་ཁུངས།', 75, 78, 'མདོ་'),\n",
       "   ('ལུང་ཚིག་དངོས།',\n",
       "    83,\n",
       "    195,\n",
       "    'བདག་མ་གྲོལ་བས་སེམས་ཅན་གཞན་གྲོལ་བར་མི་ནུས་ལ། དེ་བཞིན་བདག་མ་ཞི་ན་གཞན་ཞི་བ་དང༌། བདག་མ་དུལ་ན་གཞན་དུལ་བར་བྱ་མི་ནུས་སོ་')]]]"
      ]
     },
     "execution_count": 65,
     "metadata": {},
     "output_type": "execute_result"
    }
   ],
   "source": [
    "get_examples(json_01['result'][2])"
   ]
  },
  {
   "cell_type": "code",
   "execution_count": 66,
   "metadata": {},
   "outputs": [
    {
     "data": {
      "text/plain": [
       "[['བྱང་ཕྱོགས་ན་ནི་ཉེས་དམིགས་ལྔ་ཡོད་དེ། མཐོན་དམན་ཅན་དང་། སྡོང་དུམ་དང་། ཚེར་མས་གང་བ་དང་། རྡོ་བ་དང་། གསེག་མ་དང་། གྱོ་མོ་མང་བ་དང་། ཁྱི་ཟ་བ་དང་། བུད་མེད་གནས་ངན་ལེན་ཀུན་དུ་སྤྱོད་པའོ། །',\n",
       "  [('དབྱེ་གཞི།', 15, 24, 'ཉེས་དམིགས་'),\n",
       "   ('དབྱེ་བ།',\n",
       "    36,\n",
       "    174,\n",
       "    'མཐོན་དམན་ཅན་དང་། སྡོང་དུམ་དང་། ཚེར་མས་གང་བ་དང་། རྡོ་བ་དང་། གསེག་མ་དང་། གྱོ་མོ་མང་བ་དང་། ཁྱི་ཟ་བ་དང་། བུད་མེད་གནས་ངན་ལེན་ཀུན་དུ་སྤྱོད་པའོ། །')]]]"
      ]
     },
     "execution_count": 66,
     "metadata": {},
     "output_type": "execute_result"
    }
   ],
   "source": [
    "get_examples(json_01['result'][3])"
   ]
  },
  {
   "cell_type": "code",
   "execution_count": 88,
   "metadata": {},
   "outputs": [
    {
     "data": {
      "text/plain": [
       "[['སྡུད་པ་ལས། མི་ཁོམ་བརྒྱད་སྤངས་དེ་ཡི་དལ་བ་རྟག་ཏུ་རྙེད༑ ༑ཅེས་གསུངས། འབྱོར་པ་བཅུ་ལས། རང་འབྱོར་ལྔ་ནི། མི་ཉིད་དབུས་སྐྱེས་དབང་པོ་ཚང༌༑',\n",
       "  [('ལུང་ཚིག་དངོས།', 11, 53, 'མི་ཁོམ་བརྒྱད་སྤངས་དེ་ཡི་དལ་བ་རྟག་ཏུ་རྙེད༑ ༑'),\n",
       "   ('ལུང་ཁུངས།', 0, 6, 'སྡུད་པ་')]],\n",
       " ['དེ་ལྟར་མ་འབད་ན་འདི་ལས་བསླུས་པ་གཞན་མེད་སྙམ་དུ་བསམ་པར་བྱ་སྟེ། སྤྱོད་འཇུག་ལས། འདི་འདྲའི་དལ་བ་རྙེད་གྱུར་ནས། །བདག་གིས་དགེ་གོམས་མ་བྱས་ན། །འདི་ལས་བསླུས་པ་གཞན་མེད་དེ། །འདི་ལས་རྨོངས་པ་གཞན་མེད་དོ། །ཞེས་གསུང་པ་བཞིན་ནོ། །',\n",
       "  [('ལུང་ཁུངས།', 59, 70, ' སྤྱོད་འཇུག་'),\n",
       "   ('ལུང་ཚིག་དངོས།',\n",
       "    75,\n",
       "    187,\n",
       "    'འདི་འདྲའི་དལ་བ་རྙེད་གྱུར་ནས། །བདག་གིས་དགེ་གོམས་མ་བྱས་ན། །འདི་ལས་བསླུས་པ་གཞན་མེད་དེ། །འདི་ལས་རྨོངས་པ་གཞན་མེད་དོ། །')]],\n",
       " ['ལྔ་པོ་ནི་རང་རྒྱུད་ཀྱིས་བསྡུས་ཤིང་ཆོས་སྒྲུབ་པའི་ཆ་རྐྱེན་ཡིན་པས་རང་འབྱོར་ཞེས་བྱ། གཞན་འབྱོར་ལྔ་ནི། སངས་རྒྱས་བྱོན་དང་དེས་ཆོས་གསུངས། །བསྟན་པ་གནས་དང་དེ་རྗེས་འཇུག །གཞན་ཕྱིར་སྙིང་ནི་བརྩེ་བའོ། །ཞེས་པས། སངས་རྒྱས་འཇིག་རྟེན་དུ་བྱོན་དེས་དམ་པའི་ཆོས་གསུངས། དེའི་བསྟན་པ་མ་ནུབ་པར་གནས།',\n",
       "  [('དབྱེ་བ།',\n",
       "    96,\n",
       "    184,\n",
       "    'སངས་རྒྱས་བྱོན་དང་དེས་ཆོས་གསུངས། །བསྟན་པ་གནས་དང་དེ་རྗེས་འཇུག །གཞན་ཕྱིར་སྙིང་ནི་བརྩེ་བའོ། །'),\n",
       "   ('དབྱེ་གཞི།', 79, 94, 'གཞན་འབྱོར་ལྔ་ནི།')]],\n",
       " ['༑ཅེས་གསུངས། འབྱོར་པ་བཅུ་ལས། རང་འབྱོར་ལྔ་ནི། མི་ཉིད་དབུས་སྐྱེས་དབང་པོ་ཚང༌༑ ༑ལས་མཐའ་མ་ལོག་གནས་ལ་དད། །ཅེས་པས། བདག་སྤྱིར་མིའི་ལུས་ཐོབ། སྒོས་ཆོས་དར་བའི་ཡུལ་དབུས་སུ་སྐྱེས།',\n",
       "  [('དབྱེ་གཞི།', 12, 26, 'འབྱོར་པ་བཅུ་ལས།'),\n",
       "   ('དབྱེ་བ།',\n",
       "    44,\n",
       "    98,\n",
       "    'མི་ཉིད་དབུས་སྐྱེས་དབང་པོ་ཚང༌༑ ༑ལས་མཐའ་མ་ལོག་གནས་ལ་དད། །'),\n",
       "   ('དབྱེ་གཞི།', 28, 42, 'རང་འབྱོར་ལྔ་ནི།')]]]"
      ]
     },
     "execution_count": 88,
     "metadata": {},
     "output_type": "execute_result"
    }
   ],
   "source": [
    "get_examples(json_01['result'][49])"
   ]
  },
  {
   "cell_type": "code",
   "execution_count": 67,
   "metadata": {},
   "outputs": [],
   "source": [
    "def get_dataset(paths):\n",
    "    dataset = []\n",
    "    for path in paths:\n",
    "        data = json.load(path.open())\n",
    "        for ex in data['result']:\n",
    "            examples = get_examples(ex)\n",
    "            if examples: dataset.extend(examples)\n",
    "    return dataset"
   ]
  },
  {
   "cell_type": "code",
   "execution_count": 90,
   "metadata": {},
   "outputs": [],
   "source": [
    "ds = get_dataset(paths)"
   ]
  },
  {
   "cell_type": "code",
   "execution_count": 91,
   "metadata": {},
   "outputs": [
    {
     "data": {
      "text/plain": [
       "1178"
      ]
     },
     "execution_count": 91,
     "metadata": {},
     "output_type": "execute_result"
    }
   ],
   "source": [
    "len(ds)"
   ]
  },
  {
   "cell_type": "code",
   "execution_count": 71,
   "metadata": {},
   "outputs": [
    {
     "data": {
      "text/plain": [
       "['བྱང་ཕྱོགས་ན་ནི་ཉེས་དམིགས་ལྔ་ཡོད་དེ། མཐོན་དམན་ཅན་དང་། སྡོང་དུམ་དང་། ཚེར་མས་གང་བ་དང་། རྡོ་བ་དང་། གསེག་མ་དང་། གྱོ་མོ་མང་བ་དང་། ཁྱི་ཟ་བ་དང་། བུད་མེད་གནས་ངན་ལེན་ཀུན་དུ་སྤྱོད་པའོ། །',\n",
       " [('དབྱེ་གཞི།', 15, 24, 'ཉེས་དམིགས་'),\n",
       "  ('དབྱེ་བ།',\n",
       "   36,\n",
       "   174,\n",
       "   'མཐོན་དམན་ཅན་དང་། སྡོང་དུམ་དང་། ཚེར་མས་གང་བ་དང་། རྡོ་བ་དང་། གསེག་མ་དང་། གྱོ་མོ་མང་བ་དང་། ཁྱི་ཟ་བ་དང་། བུད་མེད་གནས་ངན་ལེན་ཀུན་དུ་སྤྱོད་པའོ། །')]]"
      ]
     },
     "execution_count": 71,
     "metadata": {},
     "output_type": "execute_result"
    }
   ],
   "source": [
    "ds[6]"
   ]
  },
  {
   "cell_type": "code",
   "execution_count": 92,
   "metadata": {},
   "outputs": [],
   "source": [
    "# Check how long sentences are so that we can pad them\n",
    "import matplotlib.pyplot as plt\n",
    "%matplotlib inline\n",
    "plt.style.use(\"ggplot\")"
   ]
  },
  {
   "cell_type": "code",
   "execution_count": 93,
   "metadata": {},
   "outputs": [
    {
     "data": {
      "image/png": "[encoded data removed]",
      "text/plain": [
       "<Figure size 432x288 with 1 Axes>"
      ]
     },
     "metadata": {},
     "output_type": "display_data"
    }
   ],
   "source": [
    "plt.hist([len(s[0]) for s in ds], bins=50)\n",
    "plt.title('Token per sentence')\n",
    "plt.xlabel('Len (number of token)')\n",
    "plt.ylabel('# sample')\n",
    "plt.show()"
   ]
  },
  {
   "cell_type": "code",
   "execution_count": 94,
   "metadata": {},
   "outputs": [
    {
     "data": {
      "text/plain": [
       "1727"
      ]
     },
     "execution_count": 94,
     "metadata": {},
     "output_type": "execute_result"
    }
   ],
   "source": [
    "max([len(s[0]) for s in ds])"
   ]
  },
  {
   "cell_type": "code",
   "execution_count": 103,
   "metadata": {},
   "outputs": [
    {
     "name": "stdout",
     "output_type": "stream",
     "text": [
      "445 །དུས་བརྒྱ་ཟ་མ་གཅིག་ཡིན་དིང་རི་བ། །ཞེས་གསུངས། མདོར་ན་ཀུན་མཁྱེན་ཆོས་རྗེས། ཁོམ་ལྡན་མི་ཡི་འགྲོ་བ་རྙེད་གྱུར་ཅིང༌། །ཡང་དག་དགེ་བའི་བཤེས་དང་མཇལ་དུས་འདིར། །བདེ་འགྲོ་ཐར་པའི་སྐས་ལ་མ་འཛེགས་ན། །ཕྱིས་ནས་དལ་འབྱོར་ལུས་རྙེད་ཤིན་ཏུ་དཀའ། །དལ་དང་འབྱོར་བའི་མི་ལུས་མ་ཐོབ་ན། །སྡིག་པ་འབའ་ཞིག་མངོན་པར་འཕེལ་བ་ལས། །དགེ་གོམས་ཆོས་ལ་སྤྱོད་པའི་སྐབས་མི་རྙེད། །དམ་པའི་ཆོས་ཞེས་སྒྲ་ཡང་ཐོས་མི་འགྱུར། །དམ་པའི་ཆོས་དང་འཕྲད་པར་མ་གྱུར་ན། །སྡིག་པའི་དབང་གིས་འོག་ནས་འོག་ཏུ་འགྲོ། །ངན་སོང་གནས་ནས་ཐོན་པར་མ་གྱུར་ན། །སྔ་མའི་སྡུག་བསྔལ་དྲག་པོས་མནར་བཞིན་དུ། །ཕྱི་མའི་ལས་ངན་དཔག་མེད་སོག་པས་ན། །མུ་མཐའ་མེད་པའི་འཁོར་བར་རྟག་ཏུ་འཁྱམས། །མཐའ་མེད་སྡིག་པའི་རྒྱ་མཚོར་འཁྱམས་དུས་འདིར། །རང་རང་ལས་ཀྱི་རྦ་ཀློང་དྲག་པོས་འཁྲུགས། །སྡུག་བསྔལ་གཏིང་མཐའ་དཔག་ཏུ་མེད་པ་ལས། །ལས་ཟད་བར་དུ་ཡང་ཡང་བརྣག་དགོས་སོ། །རང་གི་ལས་ངན་འཁྲུལ་པའི་མེ་ཚོགས་ལ། །རྒྱལ་བའི་ཐུགས་རྗེས་དངོས་སུ་གཞིལ་དཀའ་སྟེ། །སྔོན་འདས་སངས་རྒྱས་གྲངས་མེད་བྱོན་ན་ཡང༌། །བདག་ཅག་ད་དུང་སྲིད་པར་འཁྱམས་ལ་ལྟོས། །དེ་བས་ད་ལྟ་དལ་འབྱོར་ཐོབ་དུས་འདིར། །འཁོར་བའི་སྡུག་བསྔལ་དཔག་མེད་བསམས་བྱས་ནས། །ཞི་བ་རབ་བཟང་ཐར་པའི་སྐྱེད་ཚལ་དུ། །དེ་རིང་ཉིད་ནས་མངོན་ཕྱོགས་འབད་པར་བྱ། །ད་རེས་ཟབ་མོའི་ཆོས་ལ་བརྩོན་བྱས་ན། །ཚེ་འདིར་ཐར་པའི་ལམ་སྣ་ཟིན་པར་ངེས། །ཞེས་གསུངས་པ་བཞིན་ནོ། །དེ་ལྟར་ལེགས་པར་བསྒོམས་པས་གོམས་པའི་ཚད་དགེ་བཤེས་སྤྱན་སྔ་ལྟ་བུ་རེ་ཡིན་ཏེ།\n",
      "528 །ཞེས་དང༌། སློབ་དཔོན་དྷརྨ་རཀྵི་ཏས་བློ་སྦྱོང་རྨ་བྱ་དུག་འཇོམས་ལས། རྒྱལ་བུ་ཐམས་ཅད་སྒྲོལ་དུ་གྱུར་པ་ན། །བུ་དང་བུ་མོ་རྒྱལ་སྲིད་བྱིན་པ་ལྟར། །ཤིན་ཏུ་འཕྲེང་{འཁྲེང}བའི་ནོར་དང་འཁོར་ལ་སོགས། །ཕངས་པ་མེད་པར་ཡོངས་སུ་གཏང་བར་བྱ། །རྒྱལ་བུ་སྙིང་སྟོབས་ཆེན་པོར་གྱུར་པ་ན། །སྟག་མོ་རང་གི་ཤ་ཡིས་གསོས་པ་ལྟར། །ཤིན་ཏུ་གཅེས་པའི་སྒྱུ་ལུས་ཕུང་པོ་འདི། །ཤ་ཟའི་ཚོགས་ལ་དགའ་བས་སྦྱིན་པར་བྱ། །རྒྱལ་པོ་བྱམས་པའི་སྟོབས་སུ་གྱུར་པ་ན། །གནོད་སྦྱིན་རང་གི་ཁྲག་གིས་གསོས་པ་ལྟར། །བཅད་པར་དཀའ་བའི་སྙིང་ཁྲག་དྲོན་མོ་འདི། །ཁྲག་འཐུང་དག་ལ་བརྩེ་བས་སྦྱིན་པར་བྱ། །ཚོང་དཔོན་ཁྱེའུ་ཆུ་འབེབས་གྱུར་པ་ན། །བདེ་གཤེགས་མཚན་བརྗོད་ཉ་རྣམས་དྲངས་པ་ལྟར། །ཆོས་ཀྱི་ཕོངས་པའི་སྐྱེ་བོ་ཐམས་ཅད་ལ། །དམ་པའི་ཆོས་ཀྱི་སྦྱིན་པ་གཏང་བར་བྱ། །རྒྱལ་བུ་དགེ་དོན་ཆེན་པོ་གྱུར་པ་ན། །སྡིག་དོན་ལོག་སྒྲུབ་ཐུགས་རྗེས་བཟོད་པ་ལྟར། །འཁོར་གྱི་ལོག་སྒྲུབ་གཤིས་ངན་འཁྲུགས་པ་ལ། །སྙིང་རྗེ་ཆེན་པོས་ལྷག་པར་བརྩེ་བར་བྱ། །བྱང་ཆུབ་སེམས་དཔའ་སྤྲེའུ་གྱུར་པ་ན། །སྡིག་ཅན་ཁྲོན་པའི་གནས་ནས་དྲངས་པ་ལྟར། །ངན་པ་དག་ལ་ཕན་གདགས་མི་ཤོང་ཡང༌། །བཟང་ལན་མི་འདོད་ཐུགས་རྗེས་དྲང་བར་བྱ། །ཞེས་དང༌། ཉེ་བར་འཁོར་བཞིན་བཙུན་པའི་མཐར་ཐུག་ཅིང༌། །རྟ་ཐུབ་བཞིན་དུ་བག་ཡོད་མཛེས་གྱུར་ཀྱང༌།\n",
      "623 བླ་མའི་མོས་གུས་ཉམས་པ་མེད་པ་ལ་བསླབ་དགོས་ཏེ། ཕལ་བོ་ཆེ་ལས། འདི་ནི་བདག་གི་དགེ་བཤེས་ཆོས་སྨྲ་བ། །ཆོས་ཀུན་ཡོན་ཏན་ཡོངས་སུ་སྟོན་བྱེད་དེ། །བྱང་ཆུབ་སེམས་པའི་སྤྱོད་ལམ་ཡོངས་སྟོན་པ། །ཡིན་ཞེས་སེམས་གཅིག་བསམ་ནས་འདིར་འོངས་སོ། །འདི་དགེ་བསྐྱེད་པས་བདག་གི་མ་ལྟ་བུ། །ཡོན་ཏན་འོ་མ་སྡུད་པའི་མ་མ་འདྲ། །བྱང་ཆུབ་ཡན་ལག་ཡོངས་སུ་སྦྱོང་བ་ཡིན། །དགེ་བཤེས་འདི་དག་གནོད་པ་རྣམ་པར་བཟློག །རྒ་ཤི་ཐར་བྱེད་སྨན་པ་ལྟ་བུ་སྟེ། །བདུད་རྩིའི་ཆར་འབེབས་ལྷ་དབང་བརྒྱ་བྱིན་འདྲ། །ཉི་ཟླ་ལྟ་བུར་དཀར་པོའི་ཆོས་ཀྱིས་རྒྱས། །ཞི་བའི་ཕྱོགས་སྟོན་ཉི་མ་གསར་པ་འདྲ། །དགྲ་དང་གྲོགས་ལ་རི་བོ་འདྲ་བ་སྟེ། །རྒྱ་མཚོ་བཞིན་དུ་མི་འཁྲུགས་སེམས་དང་ལྡན། །ཡོངས་སུ་སྐྱོང་བ་མཉེན་པ་འདྲ་བ་ཞེས། །དེ་འདྲའི་སེམས་ཀྱིས་ནོར་བཟང་འདིར་འོངས་སོ། །བྱང་ཆུབ་སེམས་དཔའ་གང་གི་བློ་བསྐྱེད་པ། །སངས་རྒྱས་སྲས་པོ་བྱང་ཆུབ་སྐྱེད་བྱེད་པ། །འདི་དག་བདག་བཤེས་སངས་རྒྱས་བསྔགས་པ་ཞེས། །དེ་ལྟར་དགེ་བའི་སེམས་ཀྱིས་འདིར་འོངས་སོ། །འཇིག་རྟེན་སྐྱོབ་པ་དཔའ་བོ་ལྟ་བུ་སྟེ། །དེད་དཔོན་མགོན་དང་སྐྱབས་སུ་གྱུར་པ་ཡིན། །འདི་དག་བདག་ལ་བདེ་སྟོབས་མིག་ཡིན་ཞེས། །དེ་འདྲའི་སེམས་ཀྱིས་དགེ་བཤེས་བསྙེན་བཀུར་བྱེད། །ཅེས་དང༌། སྤྱོད་འཇུག་ལས། དཔལ་འབྱུང་བ་ཡི་རྣམ་ཐར་ལས། །བླ་མ་བསྟེན་པའི་ཚུལ་ལྟར་བསླབ།\n",
      "672 རིན་ཆེན་ཕྲེང་བ་ལས། ལུས་ཅན་དཔག་ཏུ་མེད་དོན་དུ། །བྱང་ཆུབ་དཔག་ཏུ་མེད་འདོད་ཅིང༌༑ ༑དགེ་བ་དཔག་ཏུ་མེད་བྱེད་པ། །དེ་ཀོ་བྱང་ཆུབ་དཔག་མེད་ཀྱང༌། །དཔག་ཏུ་མེད་པ་རྣམ་པ་བཞིའི། །ཚོགས་ཀྱིས་རིང་པོར་མི་ཐོགས་པར། །ཇི་ལྟ་བུར་ནི་ཐོབ་མི་འགྱུར། །བསོད་ནམས་མཐའ་ཡས་ཞེས་པ་དང༌། །ཡེ་ཤེས་མཐའ་ཡས་ཞེས་པ་དེས། །ལུས་དང་སེམས་ཀྱི་སྡུག་བསྔལ་དག །མྱུར་བ་ཉིད་དུ་སེལ་བར་བྱེད། །སྡིག་པས་ངན་འགྲོར་ལུས་ཀྱི་ནི། །སྡུག་བསྔལ་བཀྲེས་སྐོམ་ལ་སོགས་འབྱུང༌། །དེས་སྡིག་མ་བྱས་བསོད་ནམས་ཀྱིས། །སྲིད་པ་གཞན་ན་དེ་མེད་དོ། །རྨོངས་པས་ཡིད་ཀྱི་སྡུག་བསྔལ་ནི། །ཆགས་དང་འཇིགས་དང་འདོད་ལ་སོགས། །དེ་རྟེན་མེད་པའི་ཡེ་ཤེས་ཀྱིས། །དེ་ནི་མྱུར་བ་ཉིད་དུ་སྤོངས། །ལུས་དང་ཡིད་ཀྱི་སྡུག་བསྔལ་གྱིས། །དེ་ལྟར་ཤིན་ཏུ་མ་སྨས་ན། །གལ་ཏེ་འཇིག་རྟེན་མཐར་ཐུག་པར། །འཇིག་རྟེན་འདྲེན་ཀྱང་ཅི་སྟེ་སྐྱོ། །སྡུག་བསྔལ་བ་ལ་དུས་ཐུང་ཡང༌། །བཟོད་དཀའ་ཡུན་རིང་སྨོས་ཅི་དགོས། །སྡུག་བསྔལ་མེད་ཅིང་བདེ་བ་ལ། །མཐའ་ཡས་དུས་ཀྱང་ཅི་ཞིག་གནོད། །དེ་ལ་ལུས་ཀྱི་སྡུག་བསྔལ་མེད། །ཡིད་ཀྱི་སྡུག་བསྔལ་ག་ལ་ཡོད། །དེ་ནི་སྙིང་རྗེས་འཇིག་རྟེན་ན། །དེ་ཉིད་ཀྱིས་ནི་ཡུན་རིང་གནས། །དེ་བས་སངས་རྒྱས་རིང་ཐོགས་ཞེས། །བློ་དང་ལྡན་པ་སྒྱིད་མི་ལུག །ཉེས་ཟད་ཡོན་ཏན་དོན་དུ་ནི། །འདི་ལ་རྟག་ཏུ་འབད་པར་བྱ། །ཞེས་དང༌༑ སྤྱོད་འཇུག་ལས། བསོད་ནམས་ཀྱིས་ནི་ལུས་བདེ་ལ། །མཁས་པ་ཡིས་ནི་སེམས་བདེ་ན།\n",
      "776 བར་དོར་གྲོལ་བ་གཉིས་ལ་ཚང་སྟེ། རིག་པ་རང་ཤར་ལས། ས་ཞེས་བྱ་བ་གུད་ན་ཡོད་པ་མ་ཡིན་ནོ། །བདེན་པ་མཐོང་བའི་གང་ཟག་གཅིག་ལ་ས་རྣམས་རྫོགས་ནས་ཡོད་དོ། །དེའང་ངོ་སྤྲོད་བསྟན་པའི་གང་ཟག་དེ། དང་པོ་བདེན་པ་མཐོང་བའི་དུས་ན་དེ་ལ་དགའ་བ་སྐྱེས་པ་ནི་ས་དང་པོ་རབ་ཏུ་དགའ་བའོ། །དེ་ལ་རང་གི་སྣང་བ་ཡིན་པར་ངོ་ཤེས་པ་ནི། ས་གཉིས་པ་དྲི་མ་མེད་པ་ཐོབ་པའོ། །དེ་ནས་དེ་ལ་གོམས་པ་ནི། ས་གསུམ་པ་འོད་བྱེད་པའི་ས་ནོན་པའོ། །དེ་ནས་དེ་ལ་གོམས་ནས་འོད་ཀྱི་སྣང་བ་མཐོང་བ་ནི་བཞི་པ་འོད་འཕྲོ་བའི་ས་ནོན་པའོ། །དེ་ནས་ཡེ་ཤེས་ཀྱི་སྣང་བ་མཐོང་བ་དེ་ལ་གོམས་ནས་ཉོན་མོངས་པ་ཐམས་ཅད་རང་བཞིན་གྱིས་སྦྱངས་ནས་ཡེ་ཤེས་མཐོང་བ་ནི་ལྔ་པ་སྦྱང་དཀའི་ས་ནོན་པའོ། །དེ་ནས་འོད་ལས་ཐལ་བའི་སྐུ་མངོན་དུ་གྱུར་པ་དེ་ནི་ས་དྲུག་པ་མངོན་དུ་གྱུར་པའི་ས་ནོན་པའོ། །དེ་ནས་གོམས་པ་མཐར་ཕྱིན་ནས་ཉོན་མོངས་པ་རིང་དུ་སོང་བ་ནི་ས་བདུན་པ་རིང་དུ་སོང་བའི་ས་ནོན་པའོ། །དེ་ནས་དེའི་ངང་ལས་མི་གཡོ་བ་ནི་བརྒྱད་པ་མི་གཡོ་བའི་ས་ནོན་པའོ། །དེ་ནས་ཡོན་ཏན་རྫོགས་པ་ནི་དགུ་པ་ལེགས་པའི་བློ་གྲོས་ཀྱི་ས་ནོན་པའོ། །དེ་ནས་ཡེ་ཤེས་ཀྱི་སྣང་བ་ལ་རང་གི་ཤེས་པ་ཟིན་ནས་སྣང་བ་ལྷུག་པར་ཤར་བ་ན་ཆོས་ཐམས་ཅད་སྤྲིན་ལྟ་བུར་མཐོང་ནས་གོམས་པ་ནི་བཅུ་པ་ཆོས་ཀྱི་སྤྲིན་ལྟ་བུའི་ས་ནོན་པའོ། །དེ་ནི་གང་ཟག་བདེན་པ་མཐོང་བའི་སྦུབས་འདི་ཉིད་མ་བོར་བ་ལ་ས་ནོན་པའོ། །གང་ཟག་སྦུབས་བོར་བ་རྣམས་ཀྱིས་ནི་འདི་ལྟར་ནོན་པ་མིན་ནོ། །འཁྲུལ་སྣང་འགགས་ནས་ཚོམ་བུའི་སྣང་བ་ཤར་བ་ན་བཅུ་གཅིག་ཀུན་ཏུ་འོད་ཀྱི་ས་ནོན་པ་ཡིན་ནོ། །དེ་ནས་སྣང་བ་དེ་ལའང་མ་ཆགས་པར་ཕྱི་ནང་གི་ཆོས་ཐམས་ཅད་ཀྱིས་མ་གོས་པ་ནི་བཅུ་གཉིས་མ་ཆགས་པདྨ་ཅན་གྱི་ས་ནོན་པ་ཡིན་ནོ། །དེ་ནས་རང་གི་ཐུགས་ཀ་ནས་ཡེ་ཤེས་ཀྱི་ཟེར་ཐག་ཤར་ནས་ནམ་མཁའི་མཐོང་ནས་འོད་ཀྱི་ཚོམ་བུ་ལྔ་འཁོར་ལོའི་ཚུལ་དུ་གནས་པ་ནི་བཅུ་གསུམ་ཡི་གེ་འཁོར་ལོ་ཚོགས་ཆེན་གྱི་ས་ནོན་པའོ། །དེ་ནས་ཡེ་ཤེས་ཀྱི་སྣང་བ་ལ་གནས་པ་ནི་ས་བཅུ་བཞི་པ་ཏིང་ངེ་འཛིན་ཆེན་པོའི་ས་ནོན་པ་ཡིན་ནོ། །དེ་ནས་ལྷུན་གྲུབ་ཀྱི་ས་ལ་ངེས་པ་རྙེད་པ་ནི་བཅོ་ལྔ་པ་རྡོ་རྗེ་འཛིན་གྱི་ས་ཐོབ་པའོ། །དེ་ནས་ཀ་དག་གི་ས་ལ་ཡེ་ཤེས་ལྷུག་པར་ཤེས་ནས་དེའི་གོང་ན་གཞན་མེད་པ་ནི་བཅུ་དྲུག་ཡེ་ཤེས་བླ་མའི་ས་ཐོབ་པའོ།\n"
     ]
    }
   ],
   "source": [
    "for i, d in enumerate(ds):\n",
    "    if len(d[0]) > 1000:\n",
    "        print(i, d[0])"
   ]
  },
  {
   "cell_type": "code",
   "execution_count": 97,
   "metadata": {},
   "outputs": [
    {
     "name": "stdout",
     "output_type": "stream",
     "text": [
      "245\n"
     ]
    }
   ],
   "source": [
    "test = '།ཤིན་ཏུ་འཕྲེང་{འཁྲེང}བའི་ནོར་དང་འཁོར་ལ་སོགས། །ཕངས་པ་མེད་པར་ཡོངས་སུ་གཏང་བར་བྱ། །རྒྱལ་བུ་སྙིང་སྟོབས་ཆེན་པོར་གྱུར་པ་ན། །སྟག་མོ་རང་གི་ཤ་ཡིས་གསོས་པ་ལྟར།'\n",
    "\n",
    "for i, result in enumerate(json_01['result']):\n",
    "    if test in result['example']['content']:\n",
    "        print(i)"
   ]
  },
  {
   "cell_type": "markdown",
   "metadata": {},
   "source": [
    "### Tonkenize the setence and apply tag"
   ]
  },
  {
   "cell_type": "code",
   "execution_count": 182,
   "metadata": {},
   "outputs": [],
   "source": [
    "def tokenize(sentence):\n",
    "    t = Text(sentence)\n",
    "    tokens = t.tokenize_words_raw_text\n",
    "    return tokens.split(' ')\n",
    "    \n",
    "def apply_tag(tags, tokens):\n",
    "    tags = sorted(tags, key=lambda x: x[1])\n",
    "    token_last_char_idx = -1\n",
    "    tag_idx = 0\n",
    "    is_begining = True\n",
    "    \n",
    "    result = []\n",
    "    for token in tokens:\n",
    "        token_last_char_idx += len(token)\n",
    "        tag = tags[tag_idx]\n",
    "        if token_last_char_idx > tag[1] and token_last_char_idx <= tag[2]:\n",
    "            if is_begining:\n",
    "                result.append(f'{tag[0]}-B')\n",
    "                is_begining = False\n",
    "            else:\n",
    "                result.append(f'{tag[0]}-I')\n",
    "        else:\n",
    "            result.append('O')\n",
    "            if len(result) > 2 and result[-2][-1] in ['B', 'I']: \n",
    "                tag_idx = 1\n",
    "                is_begining = True\n",
    "    \n",
    "    return result\n",
    "\n",
    "def get_tokens_with_ner_tag(example):\n",
    "    sentence = example[0]\n",
    "    tags = example[1]\n",
    "    \n",
    "    tokens = tokenize(sentence)\n",
    "    tokens_tag = apply_tag(tags, tokens)\n",
    "    \n",
    "    print(sentence)\n",
    "    print(len(tokens))\n",
    "    print(sum(map(len, tokens)))\n",
    "    for token, tag in zip(tokens, tokens_tag):\n",
    "        print(f'{token}, {tag}')"
   ]
  },
  {
   "cell_type": "code",
   "execution_count": 183,
   "metadata": {},
   "outputs": [
    {
     "name": "stdout",
     "output_type": "stream",
     "text": [
      "།སྐྱེ་ཞིང་འཇིག་པའི་ཆོས་ཅན་ཡིན༑ ༑ཞེས་དང༌། གྲུབ་ཆེན་ཁྱུང་པོ་རྣལ་འབྱོར་པས། ཀྱེ་མ་འདུས་བྱས་མི་རྟག་སྟེ། །ནམ་མཁའི་སྤྲིན་བཞིན་འདུས་ཤིང་གྱེས། །བདེན་མེད་སྒྱུ་མའི་ཆོས་རྣམས་ལ། །བདེན་པར་བཟུང་བས་བསླུས་པ་ཡིན། །ཞེས་གསུངས།\n",
      "52\n",
      "206\n",
      "།, O\n",
      "སྐྱེ་, O\n",
      "ཞིང་, O\n",
      "འཇིག་པ, O\n",
      "འི་, O\n",
      "ཆོས་ཅན་, O\n",
      "ཡིན, O\n",
      "༑_༑, O\n",
      "ཞེ, O\n",
      "ས་, O\n",
      "དང༌, O\n",
      "།_, O\n",
      "གྲུབ་ཆེན་, ལུང་དེའི་མཛད་པ་པོ།-B\n",
      "ཁྱུང་པོ་, ལུང་དེའི་མཛད་པ་པོ།-I\n",
      "རྣལ་འབྱོར་, ལུང་དེའི་མཛད་པ་པོ།-I\n",
      "པ, O\n",
      "ས, O\n",
      "།_, O\n",
      "ཀྱེ་མ་, ལུང་ཚིག་དངོས།-B\n",
      "འདུས་བྱས་, ལུང་ཚིག་དངོས།-I\n",
      "མི་རྟག་, ལུང་ཚིག་དངོས།-I\n",
      "སྟེ, ལུང་ཚིག་དངོས།-I\n",
      "།_།, ལུང་ཚིག་དངོས།-I\n",
      "ནམ་མཁ, ལུང་ཚིག་དངོས།-I\n",
      "འི་, ལུང་ཚིག་དངོས།-I\n",
      "སྤྲིན་, ལུང་ཚིག་དངོས།-I\n",
      "བཞིན་, ལུང་ཚིག་དངོས།-I\n",
      "འདུ, ལུང་ཚིག་དངོས།-I\n",
      "ས་, ལུང་ཚིག་དངོས།-I\n",
      "ཤིང་, ལུང་ཚིག་དངོས།-I\n",
      "གྱེས, ལུང་ཚིག་དངོས།-I\n",
      "།_།, ལུང་ཚིག་དངོས།-I\n",
      "བདེན་, ལུང་ཚིག་དངོས།-I\n",
      "མེད་, ལུང་ཚིག་དངོས།-I\n",
      "སྒྱུ་མ, ལུང་ཚིག་དངོས།-I\n",
      "འི་, ལུང་ཚིག་དངོས།-I\n",
      "ཆོ, ལུང་ཚིག་དངོས།-I\n",
      "ས་, ལུང་ཚིག་དངོས།-I\n",
      "རྣམས་, ལུང་ཚིག་དངོས།-I\n",
      "ལ, ལུང་ཚིག་དངོས།-I\n",
      "།_།, ལུང་ཚིག་དངོས།-I\n",
      "བདེན་པ, ལུང་ཚིག་དངོས།-I\n",
      "ར་, ལུང་ཚིག་དངོས།-I\n",
      "བཟུང་བ, ལུང་ཚིག་དངོས།-I\n",
      "ས་, ལུང་ཚིག་དངོས།-I\n",
      "བསླུས་པ་, ལུང་ཚིག་དངོས།-I\n",
      "ཡིན, ལུང་ཚིག་དངོས།-I\n",
      "།_།, ལུང་ཚིག་དངོས།-I\n",
      "ཞེ, O\n",
      "ས་, O\n",
      "གསུངས, O\n",
      "།, O\n"
     ]
    }
   ],
   "source": [
    "get_tokens_with_ner_tag(ds[4])"
   ]
  }
 ],
 "metadata": {
  "kernelspec": {
   "display_name": "Python 3",
   "language": "python",
   "name": "python3"
  },
  "language_info": {
   "codemirror_mode": {
    "name": "ipython",
    "version": 3
   },
   "file_extension": ".py",
   "mimetype": "text/x-python",
   "name": "python",
   "nbconvert_exporter": "python",
   "pygments_lexer": "ipython3",
   "version": "3.6.7"
  }
 },
 "nbformat": 4,
 "nbformat_minor": 2
}
