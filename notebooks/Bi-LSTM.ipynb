{
 "cells": [
  {
   "cell_type": "code",
   "execution_count": 2,
   "metadata": {
    "_cell_guid": "b1076dfc-b9ad-4769-8c92-a6c4dae69d19",
    "_uuid": "8f2839f25d086af736a60e9eeb907d3b93b6e0e5"
   },
   "outputs": [
    {
     "name": "stdout",
     "output_type": "stream",
     "text": [
      "['ner-lists-87_citations-1000.csv']\n"
     ]
    }
   ],
   "source": [
    "# This Python 3 environment comes with many helpful analytics libraries installed\n",
    "\n",
    "# It is defined by the kaggle/python docker image: https://github.com/kaggle/docker-python\n",
    "# For example, here's several helpful packages to load in \n",
    "\n",
    "import numpy as np # linear algebra\n",
    "import pandas as pd # data processing, CSV file I/O (e.g. pd.read_csv)\n",
    "\n",
    "# Input data files are available in the \"../input/\" directory.\n",
    "# For example, running this (by clicking run or pressing Shift+Enter) will list the files in the input directory\n",
    "\n",
    "import os\n",
    "print(os.listdir(\"../input\"))\n",
    "\n",
    "# Any results you write to the current directory are saved as output."
   ]
  },
  {
   "cell_type": "markdown",
   "metadata": {
    "_cell_guid": "79c7e3d0-c299-4dcb-8224-4455121ee9b0",
    "_uuid": "d629ff2d2480ee46fbb7e2d37f6b5fab8052498a",
    "collapsed": true
   },
   "source": [
    "### Importing the dataset for named entity recognition model"
   ]
  },
  {
   "cell_type": "code",
   "execution_count": 4,
   "metadata": {},
   "outputs": [
    {
     "data": {
      "text/html": [
       "<div>\n",
       "<style scoped>\n",
       "    .dataframe tbody tr th:only-of-type {\n",
       "        vertical-align: middle;\n",
       "    }\n",
       "\n",
       "    .dataframe tbody tr th {\n",
       "        vertical-align: top;\n",
       "    }\n",
       "\n",
       "    .dataframe thead th {\n",
       "        text-align: right;\n",
       "    }\n",
       "</style>\n",
       "<table border=\"1\" class=\"dataframe\">\n",
       "  <thead>\n",
       "    <tr style=\"text-align: right;\">\n",
       "      <th></th>\n",
       "      <th>sentence_idx</th>\n",
       "      <th>word</th>\n",
       "      <th>tag</th>\n",
       "      <th>pos</th>\n",
       "      <th>lemma</th>\n",
       "    </tr>\n",
       "  </thead>\n",
       "  <tbody>\n",
       "    <tr>\n",
       "      <th>0</th>\n",
       "      <td>1</td>\n",
       "      <td>རྣམ་པ་</td>\n",
       "      <td>O</td>\n",
       "      <td>NOUN</td>\n",
       "      <td>རྣམ་པ་</td>\n",
       "    </tr>\n",
       "    <tr>\n",
       "      <th>1</th>\n",
       "      <td>1</td>\n",
       "      <td>ལྔ</td>\n",
       "      <td>O</td>\n",
       "      <td>OTHER</td>\n",
       "      <td>ལྔ་</td>\n",
       "    </tr>\n",
       "    <tr>\n",
       "      <th>2</th>\n",
       "      <td>1</td>\n",
       "      <td>འི་</td>\n",
       "      <td>O</td>\n",
       "      <td>PART</td>\n",
       "      <td>གི་</td>\n",
       "    </tr>\n",
       "    <tr>\n",
       "      <th>3</th>\n",
       "      <td>1</td>\n",
       "      <td>བ</td>\n",
       "      <td>O</td>\n",
       "      <td>PART</td>\n",
       "      <td>བ་</td>\n",
       "    </tr>\n",
       "    <tr>\n",
       "      <th>4</th>\n",
       "      <td>1</td>\n",
       "      <td>ར་</td>\n",
       "      <td>O</td>\n",
       "      <td>PART</td>\n",
       "      <td>ལ་</td>\n",
       "    </tr>\n",
       "    <tr>\n",
       "      <th>5</th>\n",
       "      <td>1</td>\n",
       "      <td>བཅོམ་པ</td>\n",
       "      <td>O</td>\n",
       "      <td>VERB</td>\n",
       "      <td>བཅོམ་པ་</td>\n",
       "    </tr>\n",
       "    <tr>\n",
       "      <th>6</th>\n",
       "      <td>1</td>\n",
       "      <td>། །</td>\n",
       "      <td>O</td>\n",
       "      <td></td>\n",
       "      <td></td>\n",
       "    </tr>\n",
       "    <tr>\n",
       "      <th>7</th>\n",
       "      <td>1</td>\n",
       "      <td>གཉིས་</td>\n",
       "      <td>O</td>\n",
       "      <td>OTHER</td>\n",
       "      <td>གཉིས་</td>\n",
       "    </tr>\n",
       "    <tr>\n",
       "      <th>8</th>\n",
       "      <td>1</td>\n",
       "      <td>པ་</td>\n",
       "      <td>O</td>\n",
       "      <td>PART</td>\n",
       "      <td>པ་</td>\n",
       "    </tr>\n",
       "    <tr>\n",
       "      <th>9</th>\n",
       "      <td>1</td>\n",
       "      <td>ལ་</td>\n",
       "      <td>O</td>\n",
       "      <td>PART</td>\n",
       "      <td>ལ་</td>\n",
       "    </tr>\n",
       "    <tr>\n",
       "      <th>10</th>\n",
       "      <td>1</td>\n",
       "      <td>ནི་</td>\n",
       "      <td>O</td>\n",
       "      <td>PART</td>\n",
       "      <td>ནི་</td>\n",
       "    </tr>\n",
       "    <tr>\n",
       "      <th>11</th>\n",
       "      <td>1</td>\n",
       "      <td>ཞུགས་</td>\n",
       "      <td>O</td>\n",
       "      <td>OTHER</td>\n",
       "      <td>ཞུགས་</td>\n",
       "    </tr>\n",
       "    <tr>\n",
       "      <th>12</th>\n",
       "      <td>1</td>\n",
       "      <td>པ</td>\n",
       "      <td>O</td>\n",
       "      <td>PART</td>\n",
       "      <td>པ་</td>\n",
       "    </tr>\n",
       "    <tr>\n",
       "      <th>13</th>\n",
       "      <td>1</td>\n",
       "      <td>འང་</td>\n",
       "      <td>O</td>\n",
       "      <td>PART</td>\n",
       "      <td>ཀྱང་</td>\n",
       "    </tr>\n",
       "    <tr>\n",
       "      <th>14</th>\n",
       "      <td>1</td>\n",
       "      <td>ཡིན</td>\n",
       "      <td>O</td>\n",
       "      <td>PART</td>\n",
       "      <td>ཡིན་</td>\n",
       "    </tr>\n",
       "    <tr>\n",
       "      <th>15</th>\n",
       "      <td>1</td>\n",
       "      <td>།</td>\n",
       "      <td>O</td>\n",
       "      <td></td>\n",
       "      <td></td>\n",
       "    </tr>\n",
       "    <tr>\n",
       "      <th>16</th>\n",
       "      <td>1</td>\n",
       "      <td>ཞེ</td>\n",
       "      <td>O</td>\n",
       "      <td>PART</td>\n",
       "      <td>ཞེ་</td>\n",
       "    </tr>\n",
       "    <tr>\n",
       "      <th>17</th>\n",
       "      <td>1</td>\n",
       "      <td>ས་</td>\n",
       "      <td>O</td>\n",
       "      <td>PART</td>\n",
       "      <td>གིས་</td>\n",
       "    </tr>\n",
       "    <tr>\n",
       "      <th>18</th>\n",
       "      <td>1</td>\n",
       "      <td>དང་</td>\n",
       "      <td>O</td>\n",
       "      <td>PART</td>\n",
       "      <td>དང་</td>\n",
       "    </tr>\n",
       "    <tr>\n",
       "      <th>19</th>\n",
       "      <td>1</td>\n",
       "      <td>།</td>\n",
       "      <td>O</td>\n",
       "      <td></td>\n",
       "      <td></td>\n",
       "    </tr>\n",
       "  </tbody>\n",
       "</table>\n",
       "</div>"
      ],
      "text/plain": [
       "    sentence_idx    word tag    pos    lemma\n",
       "0              1  རྣམ་པ་   O   NOUN   རྣམ་པ་\n",
       "1              1      ལྔ   O  OTHER      ལྔ་\n",
       "2              1     འི་   O   PART      གི་\n",
       "3              1       བ   O   PART       བ་\n",
       "4              1      ར་   O   PART       ལ་\n",
       "5              1  བཅོམ་པ   O   VERB  བཅོམ་པ་\n",
       "6              1     ། །   O                \n",
       "7              1   གཉིས་   O  OTHER    གཉིས་\n",
       "8              1      པ་   O   PART       པ་\n",
       "9              1      ལ་   O   PART       ལ་\n",
       "10             1     ནི་   O   PART      ནི་\n",
       "11             1   ཞུགས་   O  OTHER    ཞུགས་\n",
       "12             1       པ   O   PART       པ་\n",
       "13             1     འང་   O   PART     ཀྱང་\n",
       "14             1     ཡིན   O   PART     ཡིན་\n",
       "15             1      །    O                \n",
       "16             1      ཞེ   O   PART      ཞེ་\n",
       "17             1      ས་   O   PART     གིས་\n",
       "18             1     དང་   O   PART      དང་\n",
       "19             1      །    O                "
      ]
     },
     "execution_count": 4,
     "metadata": {},
     "output_type": "execute_result"
    }
   ],
   "source": [
    "df = pd.read_csv('../input/ner-lists-87_citations-1000.csv')\n",
    "df = df.fillna('')\n",
    "df.head(20)"
   ]
  },
  {
   "cell_type": "code",
   "execution_count": 5,
   "metadata": {},
   "outputs": [
    {
     "data": {
      "text/html": [
       "<div>\n",
       "<style scoped>\n",
       "    .dataframe tbody tr th:only-of-type {\n",
       "        vertical-align: middle;\n",
       "    }\n",
       "\n",
       "    .dataframe tbody tr th {\n",
       "        vertical-align: top;\n",
       "    }\n",
       "\n",
       "    .dataframe thead th {\n",
       "        text-align: right;\n",
       "    }\n",
       "</style>\n",
       "<table border=\"1\" class=\"dataframe\">\n",
       "  <thead>\n",
       "    <tr style=\"text-align: right;\">\n",
       "      <th></th>\n",
       "      <th>sentence_idx</th>\n",
       "      <th>word</th>\n",
       "      <th>pos</th>\n",
       "      <th>tag</th>\n",
       "    </tr>\n",
       "  </thead>\n",
       "  <tbody>\n",
       "    <tr>\n",
       "      <th>0</th>\n",
       "      <td>1</td>\n",
       "      <td>རྣམ་པ་</td>\n",
       "      <td>NOUN</td>\n",
       "      <td>O</td>\n",
       "    </tr>\n",
       "    <tr>\n",
       "      <th>1</th>\n",
       "      <td>1</td>\n",
       "      <td>ལྔ</td>\n",
       "      <td>OTHER</td>\n",
       "      <td>O</td>\n",
       "    </tr>\n",
       "    <tr>\n",
       "      <th>2</th>\n",
       "      <td>1</td>\n",
       "      <td>འི་</td>\n",
       "      <td>PART</td>\n",
       "      <td>O</td>\n",
       "    </tr>\n",
       "    <tr>\n",
       "      <th>3</th>\n",
       "      <td>1</td>\n",
       "      <td>བ</td>\n",
       "      <td>PART</td>\n",
       "      <td>O</td>\n",
       "    </tr>\n",
       "    <tr>\n",
       "      <th>4</th>\n",
       "      <td>1</td>\n",
       "      <td>ར་</td>\n",
       "      <td>PART</td>\n",
       "      <td>O</td>\n",
       "    </tr>\n",
       "  </tbody>\n",
       "</table>\n",
       "</div>"
      ],
      "text/plain": [
       "   sentence_idx    word    pos tag\n",
       "0             1  རྣམ་པ་   NOUN   O\n",
       "1             1      ལྔ  OTHER   O\n",
       "2             1     འི་   PART   O\n",
       "3             1       བ   PART   O\n",
       "4             1      ར་   PART   O"
      ]
     },
     "execution_count": 5,
     "metadata": {},
     "output_type": "execute_result"
    }
   ],
   "source": [
    "data = df[['sentence_idx', 'word', 'pos', 'tag']]\n",
    "data.head()"
   ]
  },
  {
   "cell_type": "code",
   "execution_count": 6,
   "metadata": {},
   "outputs": [
    {
     "name": "stdout",
     "output_type": "stream",
     "text": [
      "# sentences:  1178\n"
     ]
    }
   ],
   "source": [
    "print(\"# sentences: \", len(data.groupby(['sentence_idx'])))"
   ]
  },
  {
   "cell_type": "code",
   "execution_count": 7,
   "metadata": {},
   "outputs": [
    {
     "name": "stdout",
     "output_type": "stream",
     "text": [
      "# words:  5168\n"
     ]
    }
   ],
   "source": [
    "words = list(set(data[\"word\"].values))\n",
    "n_words = len(words)\n",
    "print(\"# words: \", n_words)"
   ]
  },
  {
   "cell_type": "code",
   "execution_count": 8,
   "metadata": {},
   "outputs": [
    {
     "name": "stdout",
     "output_type": "stream",
     "text": [
      "# Tags:  11\n",
      "['I-དབྱེ་གཞི།', 'B-དབྱེ་གཞི།', 'B-ལུང་ཚིག་དངོས།', 'I-དབྱེ་བ།', 'I-ལུང་དེའི་མཛད་པ་པོ།', 'B-དབྱེ་བ།', 'B-ལུང་དེའི་མཛད་པ་པོ།', 'O', 'I-ལུང་ཁུངས།', 'I-ལུང་ཚིག་དངོས།', 'B-ལུང་ཁུངས།']\n"
     ]
    }
   ],
   "source": [
    "tags = list(set(data[\"tag\"].values))\n",
    "n_tags = len(tags)\n",
    "print(\"# Tags: \", n_tags)\n",
    "print(tags)"
   ]
  },
  {
   "cell_type": "markdown",
   "metadata": {},
   "source": [
    "### Essential info about entities:    \n",
    "   - ལུང་ཁུངས།: source of citation\n",
    "   - ལུང་དེའི་མཛད་པ་པོ།: author of the citation\n",
    "   - ལུང་ཚིག་དངོས།: actual citation\n",
    "   - དབྱེ་གཞི།: category name\n",
    "   - དབྱེ་བ།: list of objects under the category"
   ]
  },
  {
   "cell_type": "markdown",
   "metadata": {},
   "source": [
    "Create list of list of tuples to differentiate each sentence from each other"
   ]
  },
  {
   "cell_type": "code",
   "execution_count": 9,
   "metadata": {},
   "outputs": [],
   "source": [
    "class SentenceGetter(object):\n",
    "    def __init__(self, data):\n",
    "        self.n_sent = 1\n",
    "        self.data = data\n",
    "        self.empty = False\n",
    "        agg_func = lambda s: [(w, t) for w, t in zip(s[\"word\"].values.tolist(), s[\"tag\"].values.tolist())]\n",
    "        self.grouped = self.data.groupby(\"sentence_idx\").apply(agg_func)\n",
    "        self.sentences = [s for s in self.grouped]\n",
    "        \n",
    "    def get_next(self):\n",
    "        try:\n",
    "            s = self.grouped[\"Sentence: {}\".format(self.n_sent)]\n",
    "            self.n_sent += 1\n",
    "            return s\n",
    "        except:\n",
    "            return None"
   ]
  },
  {
   "cell_type": "code",
   "execution_count": 10,
   "metadata": {},
   "outputs": [],
   "source": [
    "getter = SentenceGetter(data)"
   ]
  },
  {
   "cell_type": "code",
   "execution_count": 11,
   "metadata": {},
   "outputs": [
    {
     "data": {
      "text/plain": [
       "[('བདག་', 'O'),\n",
       " ('གི་', 'O'),\n",
       " ('ལུས་ངག་', 'O'),\n",
       " ('ཡིད་', 'O'),\n",
       " ('གསུམ་', 'O'),\n",
       " ('བསྡམས་', 'O'),\n",
       " ('ན', 'O'),\n",
       " ('ས་', 'O'),\n",
       " ('དུལ་བ་', 'O'),\n",
       " ('དང་', 'O'),\n",
       " ('ལྡན་པ', 'O'),\n",
       " ('ས་', 'O'),\n",
       " ('གཞན་', 'O'),\n",
       " ('ཡང་', 'O'),\n",
       " ('དུལ་བ', 'O'),\n",
       " ('ར་', 'O'),\n",
       " ('བྱེད་', 'O'),\n",
       " ('ནུས་', 'O'),\n",
       " ('ཏེ', 'O'),\n",
       " ('། ', 'O'),\n",
       " ('མདོ་', 'B-ལུང་ཁུངས།'),\n",
       " ('ལ', 'O'),\n",
       " ('ས', 'O'),\n",
       " ('། ', 'O'),\n",
       " ('བདག་', 'B-ལུང་ཚིག་དངོས།'),\n",
       " ('མ་', 'I-ལུང་ཚིག་དངོས།'),\n",
       " ('གྲོལ་བ', 'I-ལུང་ཚིག་དངོས།'),\n",
       " ('ས་', 'I-ལུང་ཚིག་དངོས།'),\n",
       " ('སེམས་ཅན་', 'I-ལུང་ཚིག་དངོས།'),\n",
       " ('གཞན་', 'I-ལུང་ཚིག་དངོས།'),\n",
       " ('གྲོལ་བ', 'I-ལུང་ཚིག་དངོས།'),\n",
       " ('ར་', 'I-ལུང་ཚིག་དངོས།'),\n",
       " ('མི་', 'I-ལུང་ཚིག་དངོས།'),\n",
       " ('ནུས་', 'I-ལུང་ཚིག་དངོས།'),\n",
       " ('ལ', 'I-ལུང་ཚིག་དངོས།'),\n",
       " ('། ', 'I-ལུང་ཚིག་དངོས།'),\n",
       " ('དེ་བཞིན་', 'I-ལུང་ཚིག་དངོས།'),\n",
       " ('བདག་', 'I-ལུང་ཚིག་དངོས།'),\n",
       " ('མ་', 'I-ལུང་ཚིག་དངོས།'),\n",
       " ('ཞི་', 'I-ལུང་ཚིག་དངོས།'),\n",
       " ('ན་', 'I-ལུང་ཚིག་དངོས།'),\n",
       " ('གཞན་', 'I-ལུང་ཚིག་དངོས།'),\n",
       " ('ཞི་བ་', 'I-ལུང་ཚིག་དངོས།'),\n",
       " ('དང༌', 'I-ལུང་ཚིག་དངོས།'),\n",
       " ('། ', 'I-ལུང་ཚིག་དངོས།'),\n",
       " ('བདག་', 'I-ལུང་ཚིག་དངོས།'),\n",
       " ('མ་', 'I-ལུང་ཚིག་དངོས།'),\n",
       " ('དུལ་', 'I-ལུང་ཚིག་དངོས།'),\n",
       " ('ན་', 'I-ལུང་ཚིག་དངོས།'),\n",
       " ('གཞན་', 'I-ལུང་ཚིག་དངོས།'),\n",
       " ('དུལ་བ', 'I-ལུང་ཚིག་དངོས།'),\n",
       " ('ར་', 'I-ལུང་ཚིག་དངོས།'),\n",
       " ('བྱ་', 'I-ལུང་ཚིག་དངོས།'),\n",
       " ('མི་', 'I-ལུང་ཚིག་དངོས།'),\n",
       " ('ནུས་', 'I-ལུང་ཚིག་དངོས།'),\n",
       " ('སོ་', 'I-ལུང་ཚིག་དངོས།'),\n",
       " ('ཞེ', 'O'),\n",
       " ('ས་', 'O'),\n",
       " ('གསུངས་པ་', 'O'),\n",
       " ('བཞིན་', 'O'),\n",
       " ('ནོ', 'O'),\n",
       " ('།', 'O')]"
      ]
     },
     "execution_count": 11,
     "metadata": {},
     "output_type": "execute_result"
    }
   ],
   "source": [
    "sentences = getter.sentences\n",
    "sentences[5]"
   ]
  },
  {
   "cell_type": "code",
   "execution_count": 12,
   "metadata": {},
   "outputs": [
    {
     "data": {
      "text/plain": [
       "440"
      ]
     },
     "execution_count": 12,
     "metadata": {},
     "output_type": "execute_result"
    }
   ],
   "source": [
    "max_len = max(len(s) for s in sentences)\n",
    "max_len"
   ]
  },
  {
   "cell_type": "code",
   "execution_count": 13,
   "metadata": {},
   "outputs": [],
   "source": [
    "# Check how long sentences are so that we can pad them\n",
    "import matplotlib.pyplot as plt\n",
    "%matplotlib inline\n",
    "plt.style.use(\"ggplot\")"
   ]
  },
  {
   "cell_type": "code",
   "execution_count": 14,
   "metadata": {},
   "outputs": [
    {
     "data": {
      "image/png": "[encoded data removed]",
      "text/plain": [
       "<Figure size 432x288 with 1 Axes>"
      ]
     },
     "metadata": {},
     "output_type": "display_data"
    }
   ],
   "source": [
    "plt.hist([len(s) for s in sentences], bins=50)\n",
    "plt.title('Token per sentence')\n",
    "plt.xlabel('Len (number of token)')\n",
    "plt.ylabel('# sample')\n",
    "plt.show()"
   ]
  },
  {
   "cell_type": "code",
   "execution_count": 15,
   "metadata": {},
   "outputs": [],
   "source": [
    "max_len = 150"
   ]
  },
  {
   "cell_type": "code",
   "execution_count": 16,
   "metadata": {},
   "outputs": [],
   "source": [
    "words = list(set(data['word'].values))\n",
    "words.append('ENDPAD')"
   ]
  },
  {
   "cell_type": "code",
   "execution_count": 17,
   "metadata": {},
   "outputs": [
    {
     "data": {
      "text/plain": [
       "5169"
      ]
     },
     "execution_count": 17,
     "metadata": {},
     "output_type": "execute_result"
    }
   ],
   "source": [
    "n_words = len(words)\n",
    "n_words"
   ]
  },
  {
   "cell_type": "code",
   "execution_count": 18,
   "metadata": {},
   "outputs": [],
   "source": [
    "tags = list(set(data['tag'].values))"
   ]
  },
  {
   "cell_type": "code",
   "execution_count": 19,
   "metadata": {},
   "outputs": [
    {
     "data": {
      "text/plain": [
       "11"
      ]
     },
     "execution_count": 19,
     "metadata": {},
     "output_type": "execute_result"
    }
   ],
   "source": [
    "n_tags = len(tags)\n",
    "n_tags"
   ]
  },
  {
   "cell_type": "markdown",
   "metadata": {},
   "source": [
    "# Prepare dataset\n",
    "\n",
    "1. Convert token and tag into integers.\n",
    "1. Pad the sentences and tags of sentence to max sentence length.\n",
    "1. Convert tags into categorical value\n",
    "1. Split data into train and test set."
   ]
  },
  {
   "cell_type": "markdown",
   "metadata": {},
   "source": [
    "### 1. Convert words into integers"
   ]
  },
  {
   "cell_type": "code",
   "execution_count": 20,
   "metadata": {},
   "outputs": [],
   "source": [
    "word2idx = {w: i for i, w in enumerate(words)}\n",
    "idx2word = {i: w for w, i in word2idx.items()}\n",
    "\n",
    "tag2idx = {t: i for i, t in enumerate(tags)}\n",
    "idx2tag = {i: w for w, i in tag2idx.items()}"
   ]
  },
  {
   "cell_type": "code",
   "execution_count": 21,
   "metadata": {},
   "outputs": [
    {
     "data": {
      "text/plain": [
       "1796"
      ]
     },
     "execution_count": 21,
     "metadata": {},
     "output_type": "execute_result"
    }
   ],
   "source": [
    "word2idx['བདག་']"
   ]
  },
  {
   "cell_type": "code",
   "execution_count": 22,
   "metadata": {},
   "outputs": [
    {
     "data": {
      "text/plain": [
       "'ENDPAD'"
      ]
     },
     "execution_count": 22,
     "metadata": {},
     "output_type": "execute_result"
    }
   ],
   "source": [
    "idx2word[5168]"
   ]
  },
  {
   "cell_type": "markdown",
   "metadata": {},
   "source": [
    "### 2. Padding all the sequences and tags to create fix length sequences (max_len sentence)"
   ]
  },
  {
   "cell_type": "code",
   "execution_count": 23,
   "metadata": {},
   "outputs": [
    {
     "name": "stderr",
     "output_type": "stream",
     "text": [
      "Using TensorFlow backend.\n"
     ]
    }
   ],
   "source": [
    "from keras.preprocessing.sequence import pad_sequences"
   ]
  },
  {
   "cell_type": "code",
   "execution_count": 24,
   "metadata": {},
   "outputs": [
    {
     "data": {
      "text/plain": [
       "[2511, 34, 728, 2083, 4477]"
      ]
     },
     "execution_count": 24,
     "metadata": {},
     "output_type": "execute_result"
    }
   ],
   "source": [
    "X = [[word2idx[w] for w, t in s] for s in sentences]\n",
    "X[0][:5]"
   ]
  },
  {
   "cell_type": "code",
   "execution_count": 25,
   "metadata": {},
   "outputs": [],
   "source": [
    "X = pad_sequences(maxlen=max_len, sequences=X, padding=\"post\", value=n_words - 1)"
   ]
  },
  {
   "cell_type": "code",
   "execution_count": 26,
   "metadata": {},
   "outputs": [
    {
     "data": {
      "text/plain": [
       "(150, 150)"
      ]
     },
     "execution_count": 26,
     "metadata": {},
     "output_type": "execute_result"
    }
   ],
   "source": [
    "len(X[0]), len(X[1])"
   ]
  },
  {
   "cell_type": "code",
   "execution_count": 27,
   "metadata": {},
   "outputs": [
    {
     "data": {
      "text/plain": [
       "5168"
      ]
     },
     "execution_count": 27,
     "metadata": {},
     "output_type": "execute_result"
    }
   ],
   "source": [
    "X[0][-1]"
   ]
  },
  {
   "cell_type": "code",
   "execution_count": 28,
   "metadata": {},
   "outputs": [
    {
     "data": {
      "text/plain": [
       "'ENDPAD'"
      ]
     },
     "execution_count": 28,
     "metadata": {},
     "output_type": "execute_result"
    }
   ],
   "source": [
    "idx2word[5168]"
   ]
  },
  {
   "cell_type": "code",
   "execution_count": 29,
   "metadata": {},
   "outputs": [],
   "source": [
    "y = [[tag2idx[t] for w, t in s] for s in sentences]"
   ]
  },
  {
   "cell_type": "code",
   "execution_count": 30,
   "metadata": {},
   "outputs": [
    {
     "data": {
      "text/plain": [
       "(73, 63)"
      ]
     },
     "execution_count": 30,
     "metadata": {},
     "output_type": "execute_result"
    }
   ],
   "source": [
    "len(y[0]), len(y[1])"
   ]
  },
  {
   "cell_type": "code",
   "execution_count": 31,
   "metadata": {},
   "outputs": [],
   "source": [
    "y = pad_sequences(maxlen=max_len, sequences=y, padding=\"post\", value=tag2idx[\"O\"])"
   ]
  },
  {
   "cell_type": "code",
   "execution_count": 32,
   "metadata": {},
   "outputs": [
    {
     "data": {
      "text/plain": [
       "(1178, 150)"
      ]
     },
     "execution_count": 32,
     "metadata": {},
     "output_type": "execute_result"
    }
   ],
   "source": [
    "y.shape"
   ]
  },
  {
   "cell_type": "code",
   "execution_count": 33,
   "metadata": {},
   "outputs": [
    {
     "data": {
      "text/plain": [
       "(150, 150)"
      ]
     },
     "execution_count": 33,
     "metadata": {},
     "output_type": "execute_result"
    }
   ],
   "source": [
    "len(y[0]), len(y[1])"
   ]
  },
  {
   "cell_type": "markdown",
   "metadata": {},
   "source": [
    "### 3. Convert tags into categorical value"
   ]
  },
  {
   "cell_type": "code",
   "execution_count": 34,
   "metadata": {},
   "outputs": [],
   "source": [
    "from keras.utils import to_categorical"
   ]
  },
  {
   "cell_type": "code",
   "execution_count": 35,
   "metadata": {},
   "outputs": [],
   "source": [
    "y = np.array([to_categorical(i, num_classes=n_tags) for i in y])"
   ]
  },
  {
   "cell_type": "code",
   "execution_count": 36,
   "metadata": {},
   "outputs": [
    {
     "data": {
      "text/plain": [
       "(1178, 150, 11)"
      ]
     },
     "execution_count": 36,
     "metadata": {},
     "output_type": "execute_result"
    }
   ],
   "source": [
    "y.shape"
   ]
  },
  {
   "cell_type": "markdown",
   "metadata": {},
   "source": [
    "### 4. Split data into train and test set"
   ]
  },
  {
   "cell_type": "code",
   "execution_count": 37,
   "metadata": {},
   "outputs": [],
   "source": [
    "from sklearn.model_selection import train_test_split"
   ]
  },
  {
   "cell_type": "code",
   "execution_count": 38,
   "metadata": {},
   "outputs": [
    {
     "name": "stdout",
     "output_type": "stream",
     "text": [
      "# train set: 942\n",
      "# test set: 236\n"
     ]
    }
   ],
   "source": [
    "X_train, X_valid, y_train, y_valid = train_test_split(X, y, test_size=0.2)\n",
    "print(\"# train set:\", X_train.shape[0])\n",
    "print(\"# test set:\", X_valid.shape[0])"
   ]
  },
  {
   "cell_type": "code",
   "execution_count": 39,
   "metadata": {},
   "outputs": [
    {
     "data": {
      "text/plain": [
       "(942, 150)"
      ]
     },
     "execution_count": 39,
     "metadata": {},
     "output_type": "execute_result"
    }
   ],
   "source": [
    "X_train.shape"
   ]
  },
  {
   "cell_type": "code",
   "execution_count": 40,
   "metadata": {},
   "outputs": [
    {
     "data": {
      "text/plain": [
       "(942, 150, 11)"
      ]
     },
     "execution_count": 40,
     "metadata": {},
     "output_type": "execute_result"
    }
   ],
   "source": [
    "y_train.shape"
   ]
  },
  {
   "cell_type": "markdown",
   "metadata": {},
   "source": [
    "## Build the Model"
   ]
  },
  {
   "cell_type": "code",
   "execution_count": 41,
   "metadata": {},
   "outputs": [],
   "source": [
    "from keras.models import Model, Input\n",
    "from keras.layers import LSTM, Embedding, Dense, TimeDistributed, Dropout, Bidirectional\n",
    "\n",
    "from keras.callbacks import Callback\n",
    "from sklearn.metrics import confusion_matrix, f1_score, precision_score, recall_score\n",
    "from keras import backend as K"
   ]
  },
  {
   "cell_type": "markdown",
   "metadata": {},
   "source": [
    "### Word Embedding:\n",
    "- A word embedding is a class of approaches for representing words and documents using a `dense vector` representation.\n",
    "- words are represented by dense vectors where a vector represents the projection of the word into a `continuous vector space`.\n",
    "- The `position` of a word within the vector space is learned from text and is based on the words that surround the word when it is used.\n",
    "- The position of a word in the learned vector space is referred to as its `embedding`.\n",
    "- `Word2Vec` & `GloVe` are carefully designed and more efficient methods of learning word embeddings from text.\n",
    "- But word embeddings can be learned as part of a `deep learning model`. This can be a `slower approach`, but `tailors` the model to a specific training dataset."
   ]
  },
  {
   "cell_type": "code",
   "execution_count": 42,
   "metadata": {},
   "outputs": [],
   "source": [
    "input = Input(shape=(150,))\n",
    "\n",
    "#output of Embedding layer is 2D vector with one embedding for each word in the input sequence of words\n",
    "X = Embedding(input_dim=n_words, output_dim=140, input_length=150)(input)\n",
    "X = Bidirectional(LSTM(units=100, return_sequences=True, recurrent_dropout=0.1))(X)\n",
    "out = TimeDistributed(Dense(n_tags, activation='softmax'))(X)"
   ]
  },
  {
   "cell_type": "code",
   "execution_count": 43,
   "metadata": {},
   "outputs": [
    {
     "name": "stdout",
     "output_type": "stream",
     "text": [
      "_________________________________________________________________\n",
      "Layer (type)                 Output Shape              Param #   \n",
      "=================================================================\n",
      "input_1 (InputLayer)         (None, 150)               0         \n",
      "_________________________________________________________________\n",
      "embedding_1 (Embedding)      (None, 150, 140)          723660    \n",
      "_________________________________________________________________\n",
      "bidirectional_1 (Bidirection (None, 150, 200)          192800    \n",
      "_________________________________________________________________\n",
      "time_distributed_1 (TimeDist (None, 150, 11)           2211      \n",
      "=================================================================\n",
      "Total params: 918,671\n",
      "Trainable params: 918,671\n",
      "Non-trainable params: 0\n",
      "_________________________________________________________________\n"
     ]
    }
   ],
   "source": [
    "model = Model(input, out)\n",
    "model.summary()"
   ]
  },
  {
   "cell_type": "markdown",
   "metadata": {},
   "source": [
    "## F1 metric"
   ]
  },
  {
   "cell_type": "code",
   "execution_count": 44,
   "metadata": {},
   "outputs": [],
   "source": [
    "def recall_m(y_true, y_pred):\n",
    "        true_positives = K.sum(K.round(K.clip(y_true * y_pred, 0, 1)))\n",
    "        possible_positives = K.sum(K.round(K.clip(y_true, 0, 1)))\n",
    "        recall = true_positives / (possible_positives + K.epsilon())\n",
    "        return recall\n",
    "\n",
    "def precision_m(y_true, y_pred):\n",
    "        true_positives = K.sum(K.round(K.clip(y_true * y_pred, 0, 1)))\n",
    "        predicted_positives = K.sum(K.round(K.clip(y_pred, 0, 1)))\n",
    "        precision = true_positives / (predicted_positives + K.epsilon())\n",
    "        return precision\n",
    "\n",
    "def f1_m(y_true, y_pred):\n",
    "    precision = precision_m(y_true, y_pred)\n",
    "    recall = recall_m(y_true, y_pred)\n",
    "    return 2*((precision*recall)/(precision+recall+K.epsilon()))"
   ]
  },
  {
   "cell_type": "code",
   "execution_count": 45,
   "metadata": {},
   "outputs": [],
   "source": [
    "model.compile(optimizer='adam', loss='categorical_crossentropy', metrics=['acc',f1_m])"
   ]
  },
  {
   "cell_type": "markdown",
   "metadata": {},
   "source": [
    "## Train the Model"
   ]
  },
  {
   "cell_type": "code",
   "execution_count": 46,
   "metadata": {},
   "outputs": [],
   "source": [
    "epochs=20\n",
    "bs=32"
   ]
  },
  {
   "cell_type": "code",
   "execution_count": 48,
   "metadata": {},
   "outputs": [
    {
     "name": "stdout",
     "output_type": "stream",
     "text": [
      "Train on 942 samples, validate on 236 samples\n",
      "Epoch 1/20\n",
      "942/942 [==============================] - 27s 28ms/step - loss: 1.1336 - acc: 0.7368 - f1_m: 0.5133 - val_loss: 0.4829 - val_acc: 0.8329 - val_f1_m: 0.7278\n",
      "Epoch 2/20\n",
      "942/942 [==============================] - 21s 22ms/step - loss: 0.4447 - acc: 0.8257 - f1_m: 0.8142 - val_loss: 0.4043 - val_acc: 0.8646 - val_f1_m: 0.8538\n",
      "Epoch 3/20\n",
      "942/942 [==============================] - 21s 22ms/step - loss: 0.3713 - acc: 0.8844 - f1_m: 0.8816 - val_loss: 0.3581 - val_acc: 0.8684 - val_f1_m: 0.8680\n",
      "Epoch 4/20\n",
      "942/942 [==============================] - 21s 22ms/step - loss: 0.2983 - acc: 0.9082 - f1_m: 0.9081 - val_loss: 0.3274 - val_acc: 0.8851 - val_f1_m: 0.8853\n",
      "Epoch 5/20\n",
      "942/942 [==============================] - 21s 22ms/step - loss: 0.2390 - acc: 0.9323 - f1_m: 0.9323 - val_loss: 0.3431 - val_acc: 0.8804 - val_f1_m: 0.8787\n",
      "Epoch 6/20\n",
      "942/942 [==============================] - 21s 22ms/step - loss: 0.2041 - acc: 0.9427 - f1_m: 0.9432 - val_loss: 0.3299 - val_acc: 0.8969 - val_f1_m: 0.8957\n",
      "Epoch 7/20\n",
      "942/942 [==============================] - 21s 23ms/step - loss: 0.1740 - acc: 0.9507 - f1_m: 0.9517 - val_loss: 0.3681 - val_acc: 0.8864 - val_f1_m: 0.8864\n",
      "Epoch 8/20\n",
      "942/942 [==============================] - 21s 22ms/step - loss: 0.1552 - acc: 0.9550 - f1_m: 0.9558 - val_loss: 0.3383 - val_acc: 0.9014 - val_f1_m: 0.9020\n",
      "Epoch 9/20\n",
      "942/942 [==============================] - 21s 22ms/step - loss: 0.1331 - acc: 0.9596 - f1_m: 0.9607 - val_loss: 0.3684 - val_acc: 0.8941 - val_f1_m: 0.8949\n",
      "Epoch 10/20\n",
      "942/942 [==============================] - 22s 23ms/step - loss: 0.1188 - acc: 0.9628 - f1_m: 0.9640 - val_loss: 0.4016 - val_acc: 0.8817 - val_f1_m: 0.8822\n",
      "Epoch 11/20\n",
      "942/942 [==============================] - 21s 22ms/step - loss: 0.1272 - acc: 0.9603 - f1_m: 0.9610 - val_loss: 0.3735 - val_acc: 0.8986 - val_f1_m: 0.8995\n",
      "Epoch 12/20\n",
      "942/942 [==============================] - 21s 22ms/step - loss: 0.1127 - acc: 0.9634 - f1_m: 0.9644 - val_loss: 0.3814 - val_acc: 0.8938 - val_f1_m: 0.8946\n",
      "Epoch 13/20\n",
      "942/942 [==============================] - 21s 22ms/step - loss: 0.0792 - acc: 0.9762 - f1_m: 0.9773 - val_loss: 0.3858 - val_acc: 0.8989 - val_f1_m: 0.8996\n",
      "Epoch 14/20\n",
      "942/942 [==============================] - 21s 23ms/step - loss: 0.0678 - acc: 0.9798 - f1_m: 0.9804 - val_loss: 0.4099 - val_acc: 0.8990 - val_f1_m: 0.8989\n",
      "Epoch 15/20\n",
      "942/942 [==============================] - 21s 22ms/step - loss: 0.0633 - acc: 0.9814 - f1_m: 0.9819 - val_loss: 0.3744 - val_acc: 0.9098 - val_f1_m: 0.9104\n",
      "Epoch 16/20\n",
      "942/942 [==============================] - 21s 23ms/step - loss: 0.0570 - acc: 0.9832 - f1_m: 0.9834 - val_loss: 0.3963 - val_acc: 0.9076 - val_f1_m: 0.9082\n",
      "Epoch 17/20\n",
      "942/942 [==============================] - 21s 22ms/step - loss: 0.0517 - acc: 0.9854 - f1_m: 0.9853 - val_loss: 0.3946 - val_acc: 0.9113 - val_f1_m: 0.9116\n",
      "Epoch 18/20\n",
      "942/942 [==============================] - 21s 22ms/step - loss: 0.0461 - acc: 0.9871 - f1_m: 0.9871 - val_loss: 0.4151 - val_acc: 0.9085 - val_f1_m: 0.9091\n",
      "Epoch 19/20\n",
      "942/942 [==============================] - 21s 22ms/step - loss: 0.0423 - acc: 0.9880 - f1_m: 0.9881 - val_loss: 0.4009 - val_acc: 0.9174 - val_f1_m: 0.9178\n",
      "Epoch 20/20\n",
      "942/942 [==============================] - 21s 22ms/step - loss: 0.0401 - acc: 0.9885 - f1_m: 0.9887 - val_loss: 0.4248 - val_acc: 0.9088 - val_f1_m: 0.9091\n"
     ]
    }
   ],
   "source": [
    "history = model.fit(X_train, y_train, batch_size=bs, epochs=epochs, validation_data=(X_valid, y_valid), verbose=1)"
   ]
  },
  {
   "cell_type": "code",
   "execution_count": 50,
   "metadata": {},
   "outputs": [
    {
     "data": {
      "image/png": "[encoded data removed]",
      "text/plain": [
       "<Figure size 1080x720 with 2 Axes>"
      ]
     },
     "metadata": {},
     "output_type": "display_data"
    }
   ],
   "source": [
    "import matplotlib.pyplot as plt\n",
    "\n",
    "trainAcc = history.history['acc']\n",
    "trainLoss = history.history['loss']\n",
    "valAcc = history.history['val_acc']\n",
    "valLoss = history.history['val_loss']\n",
    "epoch_it = np.arange(1,epochs+1)\n",
    "\n",
    "plt.figure(figsize=(15,10))\n",
    "plt.subplot(121)\n",
    "plt.plot(epoch_it, trainAcc)\n",
    "plt.plot(epoch_it, valAcc)\n",
    "plt.title('Model Accuracy')\n",
    "plt.grid()\n",
    "plt.xlabel('Epoch')\n",
    "plt.ylabel('Accuracy')\n",
    "plt.legend(['train', 'val'], loc='upper left')\n",
    "plt.tight_layout()\n",
    "plt.subplot(122)\n",
    "plt.plot(epoch_it, trainLoss)\n",
    "plt.plot(epoch_it, valLoss)\n",
    "plt.title('Model Loss')\n",
    "plt.grid()\n",
    "plt.xlabel('Epoch')\n",
    "plt.ylabel('Loss')\n",
    "plt.legend(['train', 'val'], loc='upper left')\n",
    "plt.tight_layout()\n",
    "plt.show()"
   ]
  },
  {
   "cell_type": "markdown",
   "metadata": {},
   "source": [
    "## Evaluate the model on test set"
   ]
  },
  {
   "cell_type": "code",
   "execution_count": 51,
   "metadata": {},
   "outputs": [
    {
     "name": "stdout",
     "output_type": "stream",
     "text": [
      "236/236 [==============================] - 2s 8ms/step\n"
     ]
    }
   ],
   "source": [
    "test_loss, test_acc, test_f1_m = model.evaluate(X_valid, y_valid)"
   ]
  },
  {
   "cell_type": "code",
   "execution_count": 52,
   "metadata": {},
   "outputs": [
    {
     "name": "stdout",
     "output_type": "stream",
     "text": [
      "Test loss: 0.4248\n",
      "Test acc: 0.9088\n",
      "Test f1 score: 0.9091\n"
     ]
    }
   ],
   "source": [
    "print(f'Test loss: {test_loss:.4}')\n",
    "print(f'Test acc: {test_acc:.4}')\n",
    "print(f'Test f1 score: {test_f1_m:.4}')"
   ]
  },
  {
   "cell_type": "markdown",
   "metadata": {},
   "source": [
    "## Save the model"
   ]
  },
  {
   "cell_type": "code",
   "execution_count": 54,
   "metadata": {},
   "outputs": [],
   "source": [
    "model.save('ner.h5')"
   ]
  },
  {
   "cell_type": "markdown",
   "metadata": {},
   "source": [
    "### Do some predictions"
   ]
  },
  {
   "cell_type": "code",
   "execution_count": 55,
   "metadata": {},
   "outputs": [],
   "source": [
    "from tabulate import tabulate"
   ]
  },
  {
   "cell_type": "code",
   "execution_count": 56,
   "metadata": {},
   "outputs": [],
   "source": [
    "def inference(i):\n",
    "    p = model.predict(np.array([X_valid[i]]))\n",
    "    p = np.argmax(p, axis=-1)\n",
    "\n",
    "    results = []\n",
    "    for w,pred, gt in zip(X_valid[i],p[0], y_valid[i]):\n",
    "        results.append([idx2word[w],idx2tag[pred], idx2tag[np.argmax(gt)]])\n",
    "\n",
    "    print(tabulate(results, headers=[\"Word\", \"Predicted Entity\", \"Actual Entity\"]))"
   ]
  },
  {
   "cell_type": "code",
   "execution_count": 57,
   "metadata": {},
   "outputs": [
    {
     "name": "stdout",
     "output_type": "stream",
     "text": [
      "Word     Predicted Entity    Actual Entity\n",
      "-------  ------------------  ---------------\n",
      "ཏིང་འཛིན་  I-ལུང་ཚིག་དངོས།        O\n",
      "ལྟ        O                   O\n",
      "ར་       O                   O\n",
      "སྣང་བ     O                   O\n",
      "འི་       O                   O\n",
      "ལུས་གསུམ་  O                   O\n",
      "སྣང་བྱེད་   O                   O\n",
      "ཀྱི་       O                   O\n",
      "གཞི་      O                   O\n",
      "དང་      O                   O\n",
      "བཞི       O                   O\n",
      "ར་       O                   O\n",
      "དབྱེ       I-ལུང་ཚིག་དངོས།        O\n",
      "ར་       I-ལུང་ཚིག་དངོས།        O\n",
      "རུང་      I-ལུང་ཚིག་དངོས།        O\n",
      "སྟེ        I-ལུང་ཚིག་དངོས།        O\n",
      "།        O                   O\n",
      "ཐལ་འགྱུར་  I-ལུང་ཚིག་དངོས།        O\n",
      "ལ        O                   O\n",
      "ས        O                   O\n",
      "།        O                   O\n",
      "དབྱེ་      O                   O\n",
      "ན་       I-ལུང་ཚིག་དངོས།        O\n",
      "ལུས་      I-ལུང་ཚིག་དངོས།        O\n",
      "དང་      I-ལུང་ཚིག་དངོས།        O\n",
      "སྦྱོར་བ་    I-ལུང་ཚིག་དངོས།        O\n",
      "དང༌      I-ལུང་ཚིག་དངོས།        O\n",
      "། །      I-ལུང་ཚིག་དངོས།        O\n",
      "སྣ་ཚོགས་   I-ལུང་ཚིག་དངོས།        O\n",
      "པ་       I-ལུང་ཚིག་དངོས།        O\n",
      "དང་      I-ལུང་ཚིག་དངོས།        O\n",
      "ཡེ་       I-ལུང་ཚིག་དངོས།        O\n",
      "གཞི       I-ལུང་ཚིག་དངོས།        O\n",
      "འོ        I-ལུང་ཚིག་དངོས།        O\n",
      "། །      I-ལུང་ཚིག་དངོས།        O\n",
      "ཞེ        O                   O\n",
      "ས་       O                   O\n",
      "སོ        O                   O\n",
      "། །      O                   O\n",
      "ENDPAD   O                   O\n",
      "ENDPAD   O                   O\n",
      "ENDPAD   O                   O\n",
      "ENDPAD   O                   O\n",
      "ENDPAD   O                   O\n",
      "ENDPAD   O                   O\n",
      "ENDPAD   O                   O\n",
      "ENDPAD   O                   O\n",
      "ENDPAD   O                   O\n",
      "ENDPAD   O                   O\n",
      "ENDPAD   O                   O\n",
      "ENDPAD   O                   O\n",
      "ENDPAD   O                   O\n",
      "ENDPAD   O                   O\n",
      "ENDPAD   O                   O\n",
      "ENDPAD   O                   O\n",
      "ENDPAD   O                   O\n",
      "ENDPAD   O                   O\n",
      "ENDPAD   O                   O\n",
      "ENDPAD   O                   O\n",
      "ENDPAD   O                   O\n",
      "ENDPAD   O                   O\n",
      "ENDPAD   O                   O\n",
      "ENDPAD   O                   O\n",
      "ENDPAD   O                   O\n",
      "ENDPAD   O                   O\n",
      "ENDPAD   O                   O\n",
      "ENDPAD   O                   O\n",
      "ENDPAD   O                   O\n",
      "ENDPAD   O                   O\n",
      "ENDPAD   O                   O\n",
      "ENDPAD   O                   O\n",
      "ENDPAD   O                   O\n",
      "ENDPAD   O                   O\n",
      "ENDPAD   O                   O\n",
      "ENDPAD   O                   O\n",
      "ENDPAD   O                   O\n",
      "ENDPAD   O                   O\n",
      "ENDPAD   O                   O\n",
      "ENDPAD   O                   O\n",
      "ENDPAD   O                   O\n",
      "ENDPAD   O                   O\n",
      "ENDPAD   O                   O\n",
      "ENDPAD   O                   O\n",
      "ENDPAD   O                   O\n",
      "ENDPAD   O                   O\n",
      "ENDPAD   O                   O\n",
      "ENDPAD   O                   O\n",
      "ENDPAD   O                   O\n",
      "ENDPAD   O                   O\n",
      "ENDPAD   O                   O\n",
      "ENDPAD   O                   O\n",
      "ENDPAD   O                   O\n",
      "ENDPAD   O                   O\n",
      "ENDPAD   O                   O\n",
      "ENDPAD   O                   O\n",
      "ENDPAD   O                   O\n",
      "ENDPAD   O                   O\n",
      "ENDPAD   O                   O\n",
      "ENDPAD   O                   O\n",
      "ENDPAD   O                   O\n",
      "ENDPAD   O                   O\n",
      "ENDPAD   O                   O\n",
      "ENDPAD   O                   O\n",
      "ENDPAD   O                   O\n",
      "ENDPAD   O                   O\n",
      "ENDPAD   O                   O\n",
      "ENDPAD   O                   O\n",
      "ENDPAD   O                   O\n",
      "ENDPAD   O                   O\n",
      "ENDPAD   O                   O\n",
      "ENDPAD   O                   O\n",
      "ENDPAD   O                   O\n",
      "ENDPAD   O                   O\n",
      "ENDPAD   O                   O\n",
      "ENDPAD   O                   O\n",
      "ENDPAD   O                   O\n",
      "ENDPAD   O                   O\n",
      "ENDPAD   O                   O\n",
      "ENDPAD   O                   O\n",
      "ENDPAD   O                   O\n",
      "ENDPAD   O                   O\n",
      "ENDPAD   O                   O\n",
      "ENDPAD   O                   O\n",
      "ENDPAD   O                   O\n",
      "ENDPAD   O                   O\n",
      "ENDPAD   O                   O\n",
      "ENDPAD   O                   O\n",
      "ENDPAD   O                   O\n",
      "ENDPAD   O                   O\n",
      "ENDPAD   O                   O\n",
      "ENDPAD   O                   O\n",
      "ENDPAD   O                   O\n",
      "ENDPAD   O                   O\n",
      "ENDPAD   O                   O\n",
      "ENDPAD   O                   O\n",
      "ENDPAD   O                   O\n",
      "ENDPAD   O                   O\n",
      "ENDPAD   O                   O\n",
      "ENDPAD   O                   O\n",
      "ENDPAD   O                   O\n",
      "ENDPAD   O                   O\n",
      "ENDPAD   O                   O\n",
      "ENDPAD   O                   O\n",
      "ENDPAD   O                   O\n",
      "ENDPAD   O                   O\n",
      "ENDPAD   O                   O\n",
      "ENDPAD   O                   O\n",
      "ENDPAD   O                   O\n",
      "ENDPAD   O                   O\n",
      "ENDPAD   O                   O\n"
     ]
    }
   ],
   "source": [
    "inference(1)"
   ]
  },
  {
   "cell_type": "code",
   "execution_count": 58,
   "metadata": {},
   "outputs": [
    {
     "name": "stdout",
     "output_type": "stream",
     "text": [
      "Word      Predicted Entity    Actual Entity\n",
      "--------  ------------------  ----------------\n",
      "དེས་ན་     O                   O\n",
      "པོ་ཏོ་བ     B-ལུང་ཁུངས།           B-ལུང་དེའི་མཛད་པ་པོ།\n",
      "འི་        I-ལུང་ཁུངས།           I-ལུང་དེའི་མཛད་པ་པོ།\n",
      "ཞལ་       I-ལུང་དེའི་མཛད་པ་པོ།    I-ལུང་དེའི་མཛད་པ་པོ།\n",
      "ན         O                   I-ལུང་དེའི་མཛད་པ་པོ།\n",
      "ས         O                   I-ལུང་དེའི་མཛད་པ་པོ།\n",
      "།         O                   O\n",
      "ད་ལྟ་      B-ལུང་ཚིག་དངོས།        B-ལུང་ཚིག་དངོས།\n",
      "མི་ནག་     I-ལུང་ཚིག་དངོས།        I-ལུང་ཚིག་དངོས།\n",
      "པ་        I-ལུང་ཚིག་དངོས།        I-ལུང་ཚིག་དངོས།\n",
      "ཀུན་       I-ལུང་ཚིག་དངོས།        I-ལུང་ཚིག་དངོས།\n",
      "གྱི         I-ལུང་ཚིག་དངོས།        I-ལུང་ཚིག་དངོས།\n",
      "ས་        I-ལུང་ཚིག་དངོས།        I-ལུང་ཚིག་དངོས།\n",
      "གཉེན་      I-ལུང་ཚིག་དངོས།        I-ལུང་ཚིག་དངོས།\n",
      "འདམ་པ་    I-ལུང་ཚིག་དངོས།        I-ལུང་ཚིག་དངོས།\n",
      "རེ་        I-ལུང་ཚིག་དངོས།        I-ལུང་ཚིག་དངོས།\n",
      "ལ་        I-ལུང་ཚིག་དངོས།        I-ལུང་ཚིག་དངོས།\n",
      "ཡང་       I-ལུང་ཚིག་དངོས།        I-ལུང་ཚིག་དངོས།\n",
      "རྟོག་དཔྱོད་   I-ལུང་ཚིག་དངོས།        I-ལུང་ཚིག་དངོས།\n",
      "མང་       I-ལུང་ཚིག་དངོས།        I-ལུང་ཚིག་དངོས།\n",
      "དུ་        I-ལུང་ཚིག་དངོས།        I-ལུང་ཚིག་དངོས།\n",
      "བྱེད་       I-ལུང་ཚིག་དངོས།        I-ལུང་ཚིག་དངོས།\n",
      "ཏེ         I-ལུང་ཚིག་དངོས།        I-ལུང་ཚིག་དངོས།\n",
      "།         I-ལུང་ཚིག་དངོས།        I-ལུང་ཚིག་དངོས།\n",
      "བཤེས་གཉེན་  I-ལུང་ཚིག་དངོས།        I-ལུང་ཚིག་དངོས།\n",
      "སྣ་        I-ལུང་ཚིག་དངོས།        I-ལུང་ཚིག་དངོས།\n",
      "རེ་        I-ལུང་ཚིག་དངོས།        I-ལུང་ཚིག་དངོས།\n",
      "སློབ་པ་     I-ལུང་ཚིག་དངོས།        I-ལུང་ཚིག་དངོས།\n",
      "ཡང་       I-ལུང་ཚིག་དངོས།        I-ལུང་ཚིག་དངོས།\n",
      "དཔོན་      I-ལུང་ཚིག་དངོས།        I-ལུང་ཚིག་དངོས།\n",
      "མཁ        I-ལུང་ཚིག་དངོས།        I-ལུང་ཚིག་དངོས།\n",
      "ས་        I-ལུང་ཚིག་དངོས།        I-ལུང་ཚིག་དངོས།\n",
      "མི་        I-ལུང་ཚིག་དངོས།        I-ལུང་ཚིག་དངོས།\n",
      "མཁ        I-ལུང་ཚིག་དངོས།        I-ལུང་ཚིག་དངོས།\n",
      "ས་        I-ལུང་ཚིག་དངོས།        I-ལུང་ཚིག་དངོས།\n",
      "ལ་        I-ལུང་ཚིག་དངོས།        I-ལུང་ཚིག་དངོས།\n",
      "རྩི         I-ལུང་ཚིག་དངོས།        I-ལུང་ཚིག་དངོས།\n",
      "ས་        I-ལུང་ཚིག་དངོས།        I-ལུང་ཚིག་དངོས།\n",
      "གདབ་      I-ལུང་ཚིག་དངོས།        I-ལུང་ཚིག་དངོས།\n",
      "ཆེ         I-ལུང་ཚིག་དངོས།        I-ལུང་ཚིག་དངོས།\n",
      "ར་        I-ལུང་ཚིག་དངོས།        I-ལུང་ཚིག་དངོས།\n",
      "བྱེད་       I-ལུང་ཚིག་དངོས།        I-ལུང་ཚིག་དངོས།\n",
      "ན         I-ལུང་ཚིག་དངོས།        I-ལུང་ཚིག་དངོས།\n",
      "།         I-ལུང་ཚིག་དངོས།        I-ལུང་ཚིག་དངོས།\n",
      "འོ་སྐོལ་     I-ལུང་ཚིག་དངོས།        I-ལུང་ཚིག་དངོས།\n",
      "དེ་        I-ལུང་ཚིག་དངོས།        I-ལུང་ཚིག་དངོས།\n",
      "རྣམས་      I-ལུང་ཚིག་དངོས།        I-ལུང་ཚིག་དངོས།\n",
      "ཀྱི་        I-ལུང་ཚིག་དངོས།        I-ལུང་ཚིག་དངོས།\n",
      "དོ་        I-ལུང་ཚིག་དངོས།        I-ལུང་ཚིག་དངོས།\n",
      "མིན        I-ལུང་ཚིག་དངོས།        I-ལུང་ཚིག་དངོས།\n",
      "།         O                   I-ལུང་ཚིག་དངོས།\n",
      "སོ་སོ་      I-ལུང་ཚིག་དངོས།        I-ལུང་ཚིག་དངོས།\n",
      "སྐྱེ་བོ       I-ལུང་ཚིག་དངོས།        I-ལུང་ཚིག་དངོས།\n",
      "འི་        I-ལུང་ཚིག་དངོས།        I-ལུང་ཚིག་དངོས།\n",
      "ས་        I-ལུང་ཚིག་དངོས།        I-ལུང་ཚིག་དངོས།\n",
      "ན         I-ལུང་ཚིག་དངོས།        I-ལུང་ཚིག་དངོས།\n",
      "ས་        I-ལུང་ཚིག་དངོས།        I-ལུང་ཚིག་དངོས།\n",
      "སངས་རྒྱས་   I-ལུང་ཚིག་དངོས།        I-ལུང་ཚིག་དངོས།\n",
      "ཀྱི་        I-ལུང་ཚིག་དངོས།        I-ལུང་ཚིག་དངོས།\n",
      "ས་        O                   I-ལུང་ཚིག་དངོས།\n",
      "རུ་        I-ལུང་ཚིག་དངོས།        I-ལུང་ཚིག་དངོས།\n",
      "འགྲོ་བ      O                   I-ལུང་ཚིག་དངོས།\n",
      "འི་        I-ལུང་ཚིག་དངོས།        I-ལུང་ཚིག་དངོས།\n",
      "ལམ་མཁན་   I-ལུང་ཚིག་དངོས།        I-ལུང་ཚིག་དངོས།\n",
      "བླ་མ་      I-ལུང་ཚིག་དངོས།        I-ལུང་ཚིག་དངོས།\n",
      "ལ་        I-ལུང་ཚིག་དངོས།        I-ལུང་ཚིག་དངོས།\n",
      "རེ་        I-ལུང་ཚིག་དངོས།        I-ལུང་ཚིག་དངོས།\n",
      "དགོས་པ     I-ལུང་ཚིག་དངོས།        I-ལུང་ཚིག་དངོས།\n",
      "ས         O                   I-ལུང་ཚིག་དངོས།\n",
      "།         O                   I-ལུང་ཚིག་དངོས།\n",
      "སློབ་དཔོན་   I-ལུང་ཚིག་དངོས།        I-ལུང་ཚིག་དངོས།\n",
      "གྱི་        I-ལུང་ཚིག་དངོས།        I-ལུང་ཚིག་དངོས།\n",
      "སྐྱོན་ཡོན་    I-ལུང་ཚིག་དངོས།        I-ལུང་ཚིག་དངོས།\n",
      "ལེགས་པ     I-ལུང་ཚིག་དངོས།        I-ལུང་ཚིག་དངོས།\n",
      "ར་        I-ལུང་ཚིག་དངོས།        I-ལུང་ཚིག་དངོས།\n",
      "བརྟགས་     I-ལུང་ཚིག་དངོས།        I-ལུང་ཚིག་དངོས།\n",
      "ལ         I-ལུང་ཚིག་དངོས།        I-ལུང་ཚིག་དངོས།\n",
      "།         I-ལུང་ཚིག་དངོས།        I-ལུང་ཚིག་དངོས།\n",
      "ལམ་སྣ་     I-ལུང་ཚིག་དངོས།        I-ལུང་ཚིག་དངོས།\n",
      "འདྲོང་      I-ལུང་ཚིག་དངོས།        I-ལུང་ཚིག་དངོས།\n",
      "ངེས་       I-ལུང་ཚིག་དངོས།        I-ལུང་ཚིག་དངོས།\n",
      "ཀྱི་        I-ལུང་ཚིག་དངོས།        I-ལུང་ཚིག་དངོས།\n",
      "བླ་མ་      I-ལུང་ཚིག་དངོས།        I-ལུང་ཚིག་དངོས།\n",
      "རེ་        I-ལུང་ཚིག་དངོས།        I-ལུང་ཚིག་དངོས།\n",
      "འཚོལ་      I-ལུང་ཚིག་དངོས།        I-ལུང་ཚིག་དངོས།\n",
      "དགོས       I-ལུང་ཚིག་དངོས།        I-ལུང་ཚིག་དངོས།\n",
      "།         I-ལུང་ཚིག་དངོས།        I-ལུང་ཚིག་དངོས།\n",
      "དེ་ཡང་     I-ལུང་ཚིག་དངོས།        I-ལུང་ཚིག་དངོས།\n",
      "ཆོས་འབྲེལ་   I-ལུང་ཚིག་དངོས།        I-ལུང་ཚིག་དངོས།\n",
      "མ་        I-ལུང་ཚིག་དངོས།        I-ལུང་ཚིག་དངོས།\n",
      "བྱས་པ      I-ལུང་ཚིག་དངོས།        I-ལུང་ཚིག་དངོས།\n",
      "འི་        I-ལུང་ཚིག་དངོས།        I-ལུང་ཚིག་དངོས།\n",
      "གོང་       I-ལུང་ཚིག་དངོས།        I-ལུང་ཚིག་དངོས།\n",
      "ལ་        I-ལུང་ཚིག་དངོས།        I-ལུང་ཚིག་དངོས།\n",
      "སྐྱོན་       I-ལུང་ཚིག་དངོས།        I-ལུང་ཚིག་དངོས།\n",
      "འདུག་      I-ལུང་ཚིག་དངོས།        I-ལུང་ཚིག་དངོས།\n",
      "གམ་       I-ལུང་ཚིག་དངོས།        I-ལུང་ཚིག་དངོས།\n",
      "མི་        I-ལུང་ཚིག་དངོས།        I-ལུང་ཚིག་དངོས།\n",
      "འདུག་      I-ལུང་ཚིག་དངོས།        I-ལུང་ཚིག་དངོས།\n",
      "རྟོག་       I-ལུང་ཚིག་དངོས།        I-ལུང་ཚིག་དངོས།\n",
      "དགོས       I-ལུང་ཚིག་དངོས།        I-ལུང་ཚིག་དངོས།\n",
      "།         I-ལུང་ཚིག་དངོས།        I-ལུང་ཚིག་དངོས།\n",
      "ཆོས་འབྲེལ་   I-ལུང་ཚིག་དངོས།        I-ལུང་ཚིག་དངོས།\n",
      "བྱ         I-ལུང་ཚིག་དངོས།        I-ལུང་ཚིག་དངོས།\n",
      "ས་        I-ལུང་ཚིག་དངོས།        I-ལུང་ཚིག་དངོས།\n",
      "ན         I-ལུང་ཚིག་དངོས།        I-ལུང་ཚིག་དངོས།\n",
      "ས་        I-ལུང་ཚིག་དངོས།        I-ལུང་ཚིག་དངོས།\n",
      "ཡོན་ཏན་    I-ལུང་ཚིག་དངོས།        I-ལུང་ཚིག་དངོས།\n",
      "ལ་        I-ལུང་ཚིག་དངོས།        I-ལུང་ཚིག་དངོས།\n",
      "བརྟགས་     I-ལུང་ཚིག་དངོས།        I-ལུང་ཚིག་དངོས།\n",
      "དགོས་      I-ལུང་ཚིག་དངོས།        I-ལུང་ཚིག་དངོས།\n",
      "གསུངས      I-ལུང་ཚིག་དངོས།        I-ལུང་ཚིག་དངོས།\n",
      "།         O                   O\n",
      "འོ་ན་      O                   O\n",
      "བླ་མ་      O                   O\n",
      "མཚན་ཉིད་   O                   O\n",
      "དང་       O                   O\n",
      "ལྡན་པ་     O                   O\n",
      "དེ་        O                   O\n",
      "ཇི་        O                   O\n",
      "འདྲ་       O                   O\n",
      "ཞིག་       O                   O\n",
      "ཡིན་       O                   O\n",
      "སྙམ་       O                   O\n",
      "ན         O                   O\n",
      "།         O                   O\n",
      "ENDPAD    O                   O\n",
      "ENDPAD    O                   O\n",
      "ENDPAD    O                   O\n",
      "ENDPAD    O                   O\n",
      "ENDPAD    O                   O\n",
      "ENDPAD    O                   O\n",
      "ENDPAD    O                   O\n",
      "ENDPAD    O                   O\n",
      "ENDPAD    O                   O\n",
      "ENDPAD    O                   O\n",
      "ENDPAD    O                   O\n",
      "ENDPAD    O                   O\n",
      "ENDPAD    O                   O\n",
      "ENDPAD    O                   O\n",
      "ENDPAD    O                   O\n",
      "ENDPAD    O                   O\n",
      "ENDPAD    O                   O\n",
      "ENDPAD    O                   O\n",
      "ENDPAD    O                   O\n",
      "ENDPAD    O                   O\n",
      "ENDPAD    O                   O\n",
      "ENDPAD    O                   O\n",
      "ENDPAD    O                   O\n",
      "ENDPAD    O                   O\n"
     ]
    }
   ],
   "source": [
    "inference(100)"
   ]
  }
 ],
 "metadata": {
  "kernelspec": {
   "display_name": "Python 3",
   "language": "python",
   "name": "python3"
  },
  "language_info": {
   "codemirror_mode": {
    "name": "ipython",
    "version": 3
   },
   "file_extension": ".py",
   "mimetype": "text/x-python",
   "name": "python",
   "nbconvert_exporter": "python",
   "pygments_lexer": "ipython3",
   "version": "3.6.7"
  }
 },
 "nbformat": 4,
 "nbformat_minor": 1
}
